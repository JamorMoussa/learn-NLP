{
 "cells": [
  {
   "cell_type": "markdown",
   "id": "80ce7784-94fe-4ac2-abbf-e1c164ccf1ea",
   "metadata": {},
   "source": [
    "---\n",
    "\n",
    "**Leaning NLP**(Natural Language Processing) By [Moussa JAMOR](https://github.com/JamorMoussa)\n",
    "\n",
    "Github repository: [https://github.com/JamorMoussa/learn-NLP](https://github.com/JamorMoussa/learn-NLP)\n",
    "\n",
    "Notebook Link: [https://github.com/JamorMoussa/learn-NLP/blob/main/Pytorch-for-NLP/PyTorch-Embedding-Module.ipynb](https://github.com/JamorMoussa/learn-NLP/blob/main/Pytorch-for-NLP/PyTorch-Embedding-Module.ipynb)\n",
    "\n",
    "---"
   ]
  },
  {
   "cell_type": "code",
   "execution_count": 25,
   "id": "8a87249c-4da3-415b-9dbc-af049cc3e7b0",
   "metadata": {},
   "outputs": [],
   "source": [
    "import torch\n",
    "import torch.nn as nn\n",
    "import torch.optim as optim\n",
    "from torch.utils.data import Dataset, DataLoader\n",
    "\n",
    "import re\n",
    "import matplotlib.pyplot as plt"
   ]
  },
  {
   "cell_type": "markdown",
   "id": "910beb8b-df63-46a2-b012-d40f8357be18",
   "metadata": {},
   "source": [
    "### Get Text Data:"
   ]
  },
  {
   "cell_type": "code",
   "execution_count": 344,
   "id": "f2132807-0bda-4c67-9187-69dd41d8784e",
   "metadata": {},
   "outputs": [],
   "source": [
    "sentences = [\n",
    "    \"king is a man\", \n",
    "    \"The queen is a woman\", \n",
    "    \"queen is wife of the king\",\n",
    "    \"man can be a king\",\n",
    "    \"woman can be a queen\",\n",
    "    \"king is not queen and queen is not king\"\n",
    "]\n"
   ]
  },
  {
   "cell_type": "markdown",
   "id": "526b12f1-bdaf-40b2-975e-518d04e9d620",
   "metadata": {},
   "source": [
    "### Build The vocabulary:"
   ]
  },
  {
   "cell_type": "code",
   "execution_count": 345,
   "id": "686b126f-4520-4f73-aafd-230d9afc4f17",
   "metadata": {},
   "outputs": [],
   "source": [
    "text = \" \".join(sentences).lower()"
   ]
  },
  {
   "cell_type": "code",
   "execution_count": 346,
   "id": "f159f270-26ef-4e4e-be4e-61dd104a54ee",
   "metadata": {},
   "outputs": [],
   "source": [
    "vocab = {word: i for i, word in enumerate(set(text.split()))}\n",
    "vocab_size = len(vocab)"
   ]
  },
  {
   "cell_type": "code",
   "execution_count": 347,
   "id": "ac875798-8c6f-4f4a-bdba-b8fea5d0e447",
   "metadata": {},
   "outputs": [
    {
     "data": {
      "text/plain": [
       "13"
      ]
     },
     "execution_count": 347,
     "metadata": {},
     "output_type": "execute_result"
    }
   ],
   "source": [
    "vocab_size"
   ]
  },
  {
   "cell_type": "code",
   "execution_count": 348,
   "id": "67ef8c4b-48bb-4597-a0a5-4e5cc7ef2a1b",
   "metadata": {},
   "outputs": [],
   "source": [
    "context = []\n",
    "target = []\n",
    "words = text.split()\n",
    "for i in range(1, len(words) - 1):\n",
    "    target.append(vocab[words[i]])\n",
    "    context.append([vocab[words[i-1]], vocab[words[i+1]]])    "
   ]
  },
  {
   "cell_type": "markdown",
   "id": "4f19cd70-4c67-4459-8a25-45ff50a0ffba",
   "metadata": {},
   "source": [
    "### Build Dataset: "
   ]
  },
  {
   "cell_type": "code",
   "execution_count": 349,
   "id": "f6a7834b-b699-4253-a163-b96e7a247576",
   "metadata": {},
   "outputs": [],
   "source": [
    "class TextDataSet(Dataset):\n",
    "\n",
    "    def __init__(self):\n",
    "\n",
    "        self.X: torch.Tensor = torch.tensor(context)\n",
    "        self.y: torch.Tensor = torch.tensor(target)\n",
    "\n",
    "    def __len__(self):\n",
    "        return len(self.X)\n",
    "\n",
    "    def __getitem__(self, index: int) -> tuple[torch.Tensor, torch.Tensor]:\n",
    "        return self.X[index], self.y[index]"
   ]
  },
  {
   "cell_type": "code",
   "execution_count": 350,
   "id": "3e980a03-54ff-47c7-9986-95cff96acce7",
   "metadata": {},
   "outputs": [],
   "source": [
    "dataset = TextDataSet()"
   ]
  },
  {
   "cell_type": "code",
   "execution_count": 351,
   "id": "a7761a98-e7f9-4955-b36a-b9a22e4945af",
   "metadata": {},
   "outputs": [],
   "source": [
    "dataLoader = DataLoader(dataset, batch_size=1, shuffle=True)"
   ]
  },
  {
   "cell_type": "markdown",
   "id": "285e2b09-4066-4e85-ae3a-d5b1e442712b",
   "metadata": {},
   "source": [
    "### Build The CBoW Model: "
   ]
  },
  {
   "cell_type": "code",
   "execution_count": 352,
   "id": "624ee5ba-410f-47f7-8f71-0e88b035998c",
   "metadata": {},
   "outputs": [],
   "source": [
    "class Word2Vec(nn.Module):\n",
    "\n",
    "    def __init__(self, vocab_size, emb_size):\n",
    "        super(Word2Vec, self).__init__()\n",
    "\n",
    "        self.emb_layer = nn.Embedding(vocab_size, emb_size)\n",
    "        self.l1 = nn.Linear(emb_size, vocab_size)\n",
    "\n",
    "    def forward(self, context): \n",
    "        out = self.emb_layer(context).sum(dim=1).reshape(1, -1)\n",
    "        return self.l1(out)    "
   ]
  },
  {
   "cell_type": "code",
   "execution_count": 353,
   "id": "531f3a34-e3e8-492c-930b-6c37684a74a5",
   "metadata": {},
   "outputs": [],
   "source": [
    "model = Word2Vec(vocab_size, 2)"
   ]
  },
  {
   "cell_type": "code",
   "execution_count": 354,
   "id": "8a04497c-eb89-4ee2-bd62-6d1a45337e21",
   "metadata": {},
   "outputs": [
    {
     "data": {
      "text/plain": [
       "tensor([[-1.8258, -1.9824]], grad_fn=<ViewBackward0>)"
      ]
     },
     "execution_count": 354,
     "metadata": {},
     "output_type": "execute_result"
    }
   ],
   "source": [
    "model.emb_layer(torch.tensor([0, 2])).sum(axis=1).reshape(1, -1)"
   ]
  },
  {
   "cell_type": "code",
   "execution_count": 355,
   "id": "209edc90-1cc8-4fae-9f67-938128f13cb8",
   "metadata": {},
   "outputs": [
    {
     "data": {
      "text/plain": [
       "tensor([[-0.1320,  0.1664, -0.0197,  0.5827, -1.0769, -2.0666, -1.3667, -0.7705,\n",
       "         -0.8041,  1.1061,  1.7767, -0.4159, -0.9102]],\n",
       "       grad_fn=<AddmmBackward0>)"
      ]
     },
     "execution_count": 355,
     "metadata": {},
     "output_type": "execute_result"
    }
   ],
   "source": [
    "model(torch.tensor([0 , 2]))"
   ]
  },
  {
   "cell_type": "code",
   "execution_count": 440,
   "id": "347ef612-ca0e-45de-83b5-bbe54a937059",
   "metadata": {},
   "outputs": [],
   "source": [
    "criterion = nn.CrossEntropyLoss()\n",
    "opt = optim.Adagrad(model.parameters(), lr=0.001)"
   ]
  },
  {
   "cell_type": "markdown",
   "id": "42f344d9-70b5-4822-853f-36591dfcfef2",
   "metadata": {},
   "source": [
    "### Train the Model:"
   ]
  },
  {
   "cell_type": "code",
   "execution_count": 441,
   "id": "1999d800-bb91-4c6b-8970-386d55a26671",
   "metadata": {},
   "outputs": [
    {
     "name": "stdout",
     "output_type": "stream",
     "text": [
      "epoch 0 with Loss:  10.603242576180492\n",
      "epoch 50 with Loss:  10.552649779070634\n",
      "epoch 100 with Loss:  10.550597176479641\n",
      "epoch 150 with Loss:  10.549451805301942\n",
      "epoch 200 with Loss:  10.54863029095577\n",
      "epoch 250 with Loss:  10.54797503206646\n",
      "epoch 300 with Loss:  10.547430674196221\n",
      "epoch 350 with Loss:  10.546955857833382\n",
      "epoch 400 with Loss:  10.546530536550563\n",
      "epoch 450 with Loss:  10.546141933300532\n",
      "epoch 500 with Loss:  10.545791613520123\n",
      "epoch 550 with Loss:  10.54546386754373\n",
      "epoch 600 with Loss:  10.545149024634156\n",
      "epoch 650 with Loss:  10.544858160079457\n",
      "epoch 700 with Loss:  10.544587440148462\n",
      "epoch 750 with Loss:  10.544321296387352\n",
      "epoch 800 with Loss:  10.544075539219193\n",
      "epoch 850 with Loss:  10.543840576719958\n",
      "epoch 900 with Loss:  10.543614906899165\n",
      "epoch 950 with Loss:  10.543391363869887\n"
     ]
    }
   ],
   "source": [
    "for epoch in range(1000):\n",
    "    total_loss = 0\n",
    "    \n",
    "    for context, target in dataLoader:\n",
    "\n",
    "        opt.zero_grad()\n",
    "\n",
    "        pred = model(context)\n",
    "\n",
    "        target_vec = torch.zeros(1, vocab_size)\n",
    "\n",
    "        target_vec[0][int(target)] = 1\n",
    "        \n",
    "        loss = criterion(pred, target_vec)\n",
    "\n",
    "        loss.backward()\n",
    "            \n",
    "        opt.step()\n",
    "\n",
    "        total_loss += loss.item()\n",
    "\n",
    "    if epoch %50 ==0:\n",
    "        print(f\"epoch {epoch} with Loss: \", total_loss)"
   ]
  },
  {
   "cell_type": "code",
   "execution_count": 442,
   "id": "5d26fdca-f584-4568-b38b-bd7b4ebe0fec",
   "metadata": {},
   "outputs": [],
   "source": [
    "def word_vec(word):\n",
    "    return model.emb_layer(torch.tensor(vocab[word]))"
   ]
  },
  {
   "cell_type": "code",
   "execution_count": 443,
   "id": "5b768913-573c-4e2e-93b7-9ace157739bb",
   "metadata": {},
   "outputs": [
    {
     "data": {
      "text/plain": [
       "tensor([ 1.7762, -3.9424], grad_fn=<EmbeddingBackward0>)"
      ]
     },
     "execution_count": 443,
     "metadata": {},
     "output_type": "execute_result"
    }
   ],
   "source": [
    "king = word_vec(\"king\")\n",
    "king"
   ]
  },
  {
   "cell_type": "code",
   "execution_count": 444,
   "id": "fe68ea2d-2d54-465f-a147-52f44d4f9df8",
   "metadata": {},
   "outputs": [
    {
     "data": {
      "text/plain": [
       "tensor([-1.8454, -2.8418], grad_fn=<EmbeddingBackward0>)"
      ]
     },
     "execution_count": 444,
     "metadata": {},
     "output_type": "execute_result"
    }
   ],
   "source": [
    "man = word_vec(\"man\")\n",
    "man"
   ]
  },
  {
   "cell_type": "code",
   "execution_count": 445,
   "id": "da9133fd-6756-4f32-9e7d-bdeb469520a2",
   "metadata": {},
   "outputs": [
    {
     "data": {
      "text/plain": [
       "tensor([ 1.4366, -2.8072], grad_fn=<EmbeddingBackward0>)"
      ]
     },
     "execution_count": 445,
     "metadata": {},
     "output_type": "execute_result"
    }
   ],
   "source": [
    "woman = word_vec(\"woman\")\n",
    "woman"
   ]
  },
  {
   "cell_type": "code",
   "execution_count": 446,
   "id": "c6e8e822-0396-425f-b652-5620712e3288",
   "metadata": {},
   "outputs": [
    {
     "data": {
      "text/plain": [
       "tensor([ 4.6112, -3.4874], grad_fn=<EmbeddingBackward0>)"
      ]
     },
     "execution_count": 446,
     "metadata": {},
     "output_type": "execute_result"
    }
   ],
   "source": [
    "queen = word_vec(\"queen\")\n",
    "queen"
   ]
  },
  {
   "cell_type": "code",
   "execution_count": 447,
   "id": "385aca6c-557f-4fa5-b89e-dcf2fde3897b",
   "metadata": {},
   "outputs": [],
   "source": [
    "k = queen + man - woman"
   ]
  },
  {
   "cell_type": "code",
   "execution_count": 448,
   "id": "426f7377-1ef6-4196-831f-d3da2e0f259d",
   "metadata": {},
   "outputs": [
    {
     "data": {
      "text/plain": [
       "tensor([ 1.7762, -3.9424], grad_fn=<EmbeddingBackward0>)"
      ]
     },
     "execution_count": 448,
     "metadata": {},
     "output_type": "execute_result"
    }
   ],
   "source": [
    "q = word_vec(\"king\")\n",
    "q"
   ]
  },
  {
   "cell_type": "code",
   "execution_count": 449,
   "id": "97bf385e-d9e9-495e-9573-d15e47b8421e",
   "metadata": {},
   "outputs": [
    {
     "data": {
      "text/plain": [
       "tensor(0.9981, grad_fn=<DivBackward0>)"
      ]
     },
     "execution_count": 449,
     "metadata": {},
     "output_type": "execute_result"
    }
   ],
   "source": [
    "torch.dot(k, q)/(k.norm() * q.norm())"
   ]
  },
  {
   "cell_type": "code",
   "execution_count": 450,
   "id": "7382133b-5616-49b3-9a7d-3e243ea44699",
   "metadata": {},
   "outputs": [],
   "source": [
    "array = torch.stack([king, man, woman, queen]).detach().numpy()"
   ]
  },
  {
   "cell_type": "code",
   "execution_count": 451,
   "id": "ddbd8da0-927e-4446-837f-0fe1589da3bf",
   "metadata": {},
   "outputs": [
    {
     "data": {
      "image/png": "[encoded data removed]",
      "text/plain": [
       "<Figure size 640x480 with 1 Axes>"
      ]
     },
     "metadata": {},
     "output_type": "display_data"
    }
   ],
   "source": [
    "labels = [\"king\", \"man\", \"woman\", \"queen\"]\n",
    "\n",
    "plt.scatter(array[:, 0], array[:, 1])\n",
    "\n",
    "for i, label in enumerate(labels):\n",
    "    plt.annotate(label, (array[i, 0], array[i, 1]))"
   ]
  },
  {
   "cell_type": "code",
   "execution_count": null,
   "id": "224ea500-69f0-47a4-855b-5fd3bbe9f8ab",
   "metadata": {},
   "outputs": [],
   "source": []
  }
 ],
 "metadata": {
  "kernelspec": {
   "display_name": "Python 3 (ipykernel)",
   "language": "python",
   "name": "python3"
  },
  "language_info": {
   "codemirror_mode": {
    "name": "ipython",
    "version": 3
   },
   "file_extension": ".py",
   "mimetype": "text/x-python",
   "name": "python",
   "nbconvert_exporter": "python",
   "pygments_lexer": "ipython3",
   "version": "3.11.6"
  }
 },
 "nbformat": 4,
 "nbformat_minor": 5
}
