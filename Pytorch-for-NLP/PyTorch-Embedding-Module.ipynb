{
 "cells": [
  {
   "cell_type": "markdown",
   "id": "1a38405a-96d3-45f6-be46-b42009159e33",
   "metadata": {},
   "source": [
    "--- \n",
    "\n",
    "**PyTorch Embedding Module** `nn.Embedding()` by [Moussa JAMOR](https://github.com/JamorMoussa)\n",
    "\n",
    "Code Repository: [todo]()\n",
    "\n",
    "---"
   ]
  },
  {
   "cell_type": "code",
   "execution_count": 1,
   "id": "0fa4c4fc-2d97-42eb-9bd5-3404c936ec41",
   "metadata": {},
   "outputs": [],
   "source": [
    "import torch\n",
    "import torch.nn as nn\n",
    "import torch.optim as optim\n",
    "\n",
    "import wikipedia\n",
    "import re"
   ]
  },
  {
   "cell_type": "code",
   "execution_count": 2,
   "id": "c7832e8f-29fd-4017-822d-bc266e8b732e",
   "metadata": {},
   "outputs": [],
   "source": [
    "page_title = \"Morocco\"\n",
    "\n",
    "page_content = wikipedia.page(page_title).content\n",
    "\n",
    "page_summary = wikipedia.page(page_title)"
   ]
  },
  {
   "cell_type": "code",
   "execution_count": 3,
   "id": "009e0154-fba9-4b65-82f2-65721a55dc79",
   "metadata": {},
   "outputs": [],
   "source": [
    "page_content = page_summary.content.lower()"
   ]
  },
  {
   "cell_type": "code",
   "execution_count": 4,
   "id": "f06572b4-a7d3-4cea-a0c6-d9327ed5104e",
   "metadata": {},
   "outputs": [
    {
     "data": {
      "text/plain": [
       "'morocco ( ), officially the kingdom of morocco, is a country in the maghreb region of north africa. it overlooks the mediterranean sea to the north and the atlantic ocean to the west, and has land borders with algeria to the east, and the disputed territory of western sahara to the south. morocco also claims the spanish exclaves of ceuta, melilla and peñón de vélez de la gomera, and several small spanish-controlled islands off its coast. it spans an area of 446,300 km2 (172,300 sq mi) or 716,550 km2 (276,660 sq mi),, with a population of roughly 37 million. its official and predominant religion is islam, and the official languages are arabic and berber (tamazight);  french and the moroccan dialect of arabic are also widely spoken. moroccan identity and culture is a mix of arab, berber, african and european cultures. its capital is rabat, while its largest city is casablanca.the region constituting morocco has been inhabited since the paleolithic era over 300,000 years ago. the idrisid dynasty was established by idris i in 788 and was subsequently ruled by a series of other independent dynasties, reaching its zenith as a regional power in the 11th and 12th centuries, under the almoravid and almohad dynasties, when it controlled most of the iberian peninsula and the maghreb. centuries of arab migration to the maghreb since the 7th century shifted the demographic scope of the region. in the 15th and 16th centuries, morocco faced external threats to its sovereignty, with portugal seizing some territory and the ottoman empire encroaching from the east. the marinid and saadi dynasties otherwise resisted foreign domination, and morocco was the only north african nation to escape ottoman dominion. the \\'alawi dynasty, which rules the country to this day, seized power in 1631, and over the next two centuries expanded diplomatic and commercial relations with the western world. morocco\\'s strategic location near the mouth of the mediterranean drew renewed european interest; in 1912, france and spain divided the country into respective protectorates, reserving an international zone in tangier. following intermittent riots and revolts against colonial rule, in 1956, morocco regained its independence and reunified.\\nsince independence, morocco has remained relatively stable. it has the fifth-largest economy in africa and wields significant influence in both africa and the arab world; it is considered a middle power in global affairs and holds membership in the arab league, the arab maghreb union, the union for the mediterranean, and the african union. morocco is a unitary semi-constitutional monarchy with an elected parliament. the executive branch is led by the king of morocco and the prime minister, while legislative power is vested in the two chambers of parliament: the house of representatives and the house of councillors. judicial power rests with the constitutional court, which may review the validity of laws, elections, and referendums. the king holds vast executive and legislative powers, especially over the military, foreign policy and religious affairs; he can issue decrees called dahirs, which have the force of law, and can also dissolve the parliament after consulting the prime minister and the president of the constitutional court.\\nmorocco claims ownership of the non-self-governing territory of western sahara, which it has designated its southern provinces. in 1975, after spain agreed to decolonise the territory and cede its control to morocco and mauritania, a guerrilla war broke out between those powers and some of the local inhabitants. in 1979, mauritania relinquished its claim to the area, but the war continued to rage. in 1991, a ceasefire agreement was reached, but the issue of sovereignty remained unresolved. today, morocco occupies two-thirds of the territory, and efforts to resolve the dispute have thus far failed to break the political deadlock.\\n\\n\\n== name and etymology ==\\nthe english morocco is an anglicisation of the spanish name for the country, marruecos, derived from the name of the city of marrakesh, which was the capital of the almoravid dynasty, the almohad caliphate, and the saadian dynasty. during the almoravid dynasty, the city of marrakesh was established under the name of tāmurākušt, derived from the city\\'s ancient berber name of amūr n yakuš (lit.\\u2009\\'land/country of god\\').historically, the territory has been part of what muslim geographers referred to as al-maghrib al-aqṣā\\u200a (المغرب الأقصى, \\'the farthest west [of the islamic world]\\' designating roughly the area from tiaret to the atlantic) in contrast with neighbouring regions of al-maghrib al-awsaṭ\\u200a (المغرب الأوسط, \\'the middle west\\': tripoli to béjaïa) and al-maghrib al-adná\\u200a (المغرب الأدنى, \\'the nearest west\\': alexandria to tripoli).morocco\\'s modern arabic name is al-maghrib (المغرب, transl.\\u2009the land of the sunset; the west), with the kingdom\\'s official arabic name being al-mamlakah al-maghribīyah (المملكة المغربية; transl.\\u2009the kingdom of sunset/the west). in turkish, morocco is known as fas, a name derived from its ancient capital of fes which is likely derived from the berber issafen (lit.\\u2009\\'rivers\\').in other parts of the islamic world, for example in egyptian and middle eastern arabic literature before the mid-20th century, morocco was commonly referred to as murrakush (مراكش). the term is still used to refer to morocco today in several indo-iranian languages, including persian, urdu, and punjabi.morocco has also been referred to politically by a variety of terms denoting the sharifi heritage of the alawi dynasty, such as al-iyālah ash-sharīfah (الإيالة الشريفة) or al-imbarāṭūriyyah ash-sharīfah (الإمبراطورية الشريفة), rendered in french as l\\'empire chérifien and in english as the \\'sharifian empire\\'.\\n\\n\\n== history ==\\n\\n\\n=== prehistory and antiquity ===\\n\\nthe area of present-day morocco has been inhabited since at least paleolithic times, beginning sometime between 190,000 and 90,000 bc. a recent publication has suggested that there is evidence for even earlier human habitation of the area: homo sapiens fossils that had been discovered in the late 2000s near the atlantic coast in jebel irhoud were recently dated to roughly 315,000 years ago.  during the upper paleolithic, the maghreb was more fertile than it is today, resembling a savanna, in contrast to its modern arid landscape. twenty-two thousand years ago, the aterian culture was succeeded by the iberomaurusian culture, which shared similarities with iberian cultures. skeletal similarities have been suggested between the human remains found at iberomaurusian \"mechta-afalou\" burial sites and european cro-magnon remains. the iberomaurusian culture was succeeded by the beaker culture in morocco.mitochondrial dna studies have discovered a close ancestral link between berbers and the saami of scandinavia. this evidence supports the theory that some of the peoples who had been living in the franco-cantabrian refuge area of southwestern europe during the late-glacial period migrated to northern europe, contributing to its repopulation after the last ice age.in the early part of classical antiquity, northwest africa and morocco were slowly drawn into the wider emerging mediterranean world by the phoenicians, who established trading colonies and settlements there, the most substantial of which were chellah, lixus, and mogador. mogador was established as a phoenician colony as early as the 6th century bc.\\nmorocco later became a realm of the northwest african civilisation of ancient carthage, and part of the carthaginian empire. the earliest known independent moroccan state was the berber kingdom of mauretania, under king baga. this ancient kingdom (not to be confused with the modern state of mauritania) flourished around 225 bc or earlier. mauretania became a client kingdom of the roman empire in 33 bc. emperor claudius annexed mauretania directly in 44 ad, making it a roman province ruled by an imperial governor (either a procurator augusti, or a legatus augusti pro praetore).\\nduring the crisis of the third century, parts of mauretania were reconquered by berbers. by the late 3rd century, direct roman rule had become confined to a few coastal cities, such as septum (ceuta) in mauretania tingitana and cherchell in mauretania caesariensis. when, in 429 ad, the area was devastated by the vandals, the roman empire lost its remaining possessions in mauretania, and local mauro-roman kings assumed control of them. in the 530s, the eastern roman empire, under byzantine control, re-established direct imperial rule of septum and tingi, fortified tingis and erected a church.\\n\\n\\n=== foundation and dynasties ===\\nthe muslim conquest of the maghreb, which started in the middle of the 7th century, was achieved by the umayyad caliphate early into the following century. it brought both the arabic language and islam to the area. although part of the larger islamic empire, morocco was initially organized as a subsidiary province of ifriqiya, with the local governors appointed by the muslim governor in kairouan. centuries of arab migration to the maghreb since the 7th century shifted the demographic scope of morocco.\\nthe indigenous berber tribes adopted islam, but retained their customary laws. they also paid taxes and tribute to the new muslim administration. the first independent muslim state in the area of modern morocco was the kingdom of nekor, an emirate in the rif mountains. it was founded by salih i ibn mansur in 710, as a client state to the umayyad caliphate. after the outbreak of the berber revolt in 739, the berbers formed other independent states such as the miknasa of sijilmasa and the barghawata.\\n\\nthe founder of the idrisid dynasty and the great-grandson of hasan ibn ali, idris ibn abdallah, had fled to morocco after the abbasids\\' massacre of his family in the hejaz. he convinced the awraba berber tribes to break their allegiance to the distant abbasid caliphs and he founded the idrisid dynasty in 788. the idrisids established fes as their capital and morocco became a centre of muslim learning and a major regional power. the idrisids were ousted in 927 by the fatimid caliphate and their miknasa allies. after miknasa broke off relations with the fatimids in 932, they were removed from power by the maghrawa of sijilmasa in 980.\\n\\nfrom the 11th century onwards, a series of berber dynasties arose. under the sanhaja almoravid dynasty and the masmuda almohad dynasty, morocco dominated the maghreb, al-andalus in iberia, and the western mediterranean region. from the 13th century onwards the country saw a massive migration of the banu hilal arab tribes. in the 13th and 14th centuries the zenata berber marinids held power in morocco and strove to replicate the successes of the almohads through military campaigns in algeria and spain. they were followed by the wattasids. in the 15th century, the reconquista ended muslim rule in iberia and many muslims and jews fled to morocco.portuguese efforts to control the atlantic sea trade in the 15th century did not greatly affect the interior of morocco even though they managed to control some possessions on the moroccan coast but not venturing further afield inland.\\n\\nin 1549, the region fell to successive arab dynasties claiming descent from the islamic prophet, muhammad: first the sharifian saadi dynasty who ruled from 1549 to 1659, and then the alaouite dynasty, who remain in power since the 17th century. morocco faced aggression from spain in the north, and the ottoman empire\\'s allies pressing westward.\\n\\nunder the saadi dynasty, the country ended the aviz dynasty of portugal at the battle of alcácer quibir in 1578. the reign of ahmad al-mansur brought new wealth and prestige to the sultanate, and a large expedition to west africa inflicted a crushing defeat on the songhay empire in 1591. however, managing the territories across the sahara proved too difficult. after the death of al-mansur, the country was divided among his sons.\\nafter a period of political fragmentation and conflict during the decline of the saadi dynasty, morocco was finally reunited by the \\'alawi (or alaouite) sultan al-rashid in the late 1660s, who took fez in 1666 and marrakesh in 1668.:\\u200a230\\u200a:\\u200a225\\u200a the \\'alawis succeeded in stabilising their position, and while the kingdom was smaller than previous ones in the region, it remained quite wealthy. against the opposition of local tribes ismail ibn sharif (1672–1727) began to create a unified state. with his jaysh d\\'ahl al-rif (the riffian army) he re-occupied tangier from the english who had abandoned it in 1684 and drove the spanish from larache in 1689. portuguese abandoned mazagão, their last territory in morocco, in 1769. however, the siege of melilla against the spanish ended in defeat in 1775.\\nmorocco was the first nation to recognise the fledgling united states as an independent nation in 1777. in the beginning of the american revolution, american merchant ships in the atlantic ocean were subject to attacks by other fleets. on 20 december 1777, morocco\\'s sultan mohammed iii declared that american merchant ships would be under the protection of the sultanate and could thus enjoy safe passage. the moroccan–american treaty of friendship, signed in 1786, stands as the u.s.\\'s oldest non-broken friendship treaty.\\n\\n\\n=== french and spanish protectorates ===\\n\\nas europe industrialised, northwest africa was increasingly prized for its potential for colonisation. france showed a strong interest in morocco as early as 1830, not only to protect the border of its algerian territory, but also because of the strategic position of morocco with coasts on the mediterranean and the open atlantic. in 1860, a dispute over spain\\'s ceuta enclave led spain to declare war. victorious spain won a further enclave and an enlarged ceuta in the settlement. in 1884, spain created a protectorate in the coastal areas of morocco.\\n\\nin 1904, france and spain carved out zones of influence in morocco. recognition by the united kingdom of france\\'s sphere of influence provoked a strong reaction from the german empire; and a crisis loomed in 1905. the matter was resolved at the algeciras conference in 1906. the agadir crisis of 1911 increased tensions between european powers. the 1912 treaty of fez made morocco a protectorate of france, and triggered the 1912 fez riots. spain continued to operate its coastal protectorate. by the same treaty, spain assumed the role of protecting power over the northern coastal and southern saharan zones.tens of thousands of colonists entered morocco. some bought up large amounts of rich agricultural land, while others organised the exploitation and modernisation of mines and harbours. interest groups that formed among these elements continually pressured france to increase its control over morocco – a control which was also made necessary by the continuous wars among moroccan tribes, part of which had taken sides with the french since the beginning of the conquest. the french colonial administrator, governor general marshal hubert lyautey, sincerely admired moroccan culture and succeeded in imposing a joint moroccan-french administration, while creating a modern school system. several divisions of moroccan soldiers (goumiers or regular troops and officers) served in the french army in both world war i and world war ii, and in the spanish nationalist army in the spanish civil war and after (regulares). the institution of slavery was abolished in 1925.between 1921 and 1926, an uprising in the rif mountains, led by abd el-krim, led to the establishment of the republic of the rif. the spanish used anti-civilian bombing raids and mustard gas to prevent the rif republic from independence. they lost more than 13,000 soldiers at annual in july–august 1921 alone. the riffi were eventually suppressed by 1927 by the franco-spanish military. the casualties on the spanish-french side were 52,000 and from the riffi 10,000 died.\\nin 1943, the istiqlal party (independence party) was founded to press for independence, with discreet us support. moroccan nationalists drew heavily on transnational activist networks for lobbying to end colonial rule, primarily at the united nations. the istiqlal party subsequently provided most of the leadership for the nationalist movement.\\n\\nfrance\\'s exile of sultan mohammed v in 1953 to madagascar and his replacement by the unpopular mohammed ben aarafa sparked active opposition to the french and spanish protectorates. the most notable violence occurred in oujda where moroccans attacked french and other european residents in the streets. france allowed mohammed v to return in 1955, and the negotiations that led to moroccan independence began the following year. in march 1956 morocco regained its independence from france as the kingdom of morocco. a month later spain forsook its protectorate in northern morocco to the new state but kept its two coastal enclaves (ceuta and melilla) on the mediterranean coast which dated from earlier conquests, but on which morocco still claims sovereignty to this day.\\n\\n\\n=== post-independence ===\\nsultan mohammed became king in 1957. upon the death of mohammed v, hassan ii became king of morocco on 3 march 1961. morocco held its first general elections in 1963. however, hassan declared a state of emergency and suspended parliament in 1965. in 1971 and 1972, there were two failed attempts to depose the king and establish a republic. a truth commission set up in 2005 to investigate human rights abuses during his reign confirmed nearly 10,000 cases, ranging from death in detention to forced exile. some 592 people were recorded killed during hassan\\'s rule according to the truth commission.\\nin 1963, the sand war was fought between algerian and moroccan troops over moroccan claims to parts of algerian territory. a formal peace agreement was signed in february 1964; however, relations remained strained between the two countries following the conflict. the spanish enclave of ifni in the south was returned to morocco in 1969.the polisario movement was formed in 1973, with the aim of establishing an independent state in the spanish sahara. on 6 november 1975, king hassan asked for volunteers to cross into the spanish sahara. some 350,000 civilians were reported as being involved in the \"green march\". a month later, spain agreed to leave the spanish sahara, soon to become western sahara, and to transfer it to joint moroccan-mauritanian control, despite the objections and threats of military intervention by algeria. moroccan forces occupied the territory.moroccan and algerian troops soon clashed in western sahara. morocco and mauritania divided up western sahara. fighting between the moroccan military and polisario forces continued for many years. the prolonged war was a considerable financial drain on morocco. in 1983, hassan cancelled planned elections amid political unrest and economic crisis. in 1984, morocco left the organisation of african unity in protest at the sadr\\'s admission to the body. polisario claimed to have killed more than 5,000 moroccan soldiers between 1982 and 1985. algerian authorities have estimated the number of sahrawi refugees in algeria to be 165,000. diplomatic relations with algeria were restored in 1988. in 1991, a un-monitored ceasefire began in western sahara, but the territory\\'s status remains undecided and ceasefire violations are reported. the following decade saw much wrangling over a proposed referendum on the future of the territory but the deadlock was not broken.\\npolitical reforms in the 1990s resulted in the establishment of a bicameral legislature with morocco\\'s first opposition-led government coming to power. king hassan ii died in 1999 and was succeeded by his son, mohammed vi. he is a cautious moderniser who has introduced some economic and social liberalisation. mohammed vi paid a controversial visit to the western sahara in 2002. morocco unveiled an autonomy blueprint for western sahara to the united nations in 2007. the polisario rejected the plan and put forward its own proposal. morocco and the polisario front held un-sponsored talks in new york city but failed to come to any agreement. in 2010, security forces stormed a protest camp in the western sahara, triggering violent demonstrations in the regional capital el aaiún.\\nin 2002, morocco and spain agreed to a us-brokered resolution over the disputed island of perejil. spanish troops had taken the normally uninhabited island after moroccan soldiers landed on it and set up tents and a flag. there were renewed tensions in 2005, as dozens of african migrants stormed the borders of the spanish enclaves of melilla and ceuta. in response, spain deported dozens of the illegal migrants to morocco from melilla. in 2006, the spanish premier zapatero visited spanish enclaves. he was the first spanish leader in 25 years to make an official visit to the territories. the following year, spanish king juan carlos i visited ceuta and melilla, further angering morocco which demanded control of the enclaves.during the 2011–2012 moroccan protests, thousands of people rallied in rabat and other cities calling for political reform and a new constitution curbing the powers of the king. in july 2011, the king won a landslide victory in a referendum on a reformed constitution he had proposed to placate the arab spring protests. in the first general elections that followed, the moderate islamist justice and development party won a plurality of seats, with abdelilah benkirane being designated as head of government per the new constitution. despite the reforms made by mohammed vi, demonstrators continued to call for deeper reforms. hundreds took part in a trade union rally in casablanca in may 2012. participants accused the government of failing to deliver on reforms.on 10 december 2020, israel–morocco normalization agreement was announced and morocco announced its intention to resume diplomatic relations with israel. joint declaration of the kingdom of morocco, the united states of america and the state of israel was signed on 22 december 2020.on 24 august 2021, neighboring algeria cut diplomatic relations with morocco, accusing morocco of supporting a separatist group and hostile actions against algeria. morocco called the decision unjustified.on 8 september 2023, a 6.8 magnitude earthquake hit morocco killing more than 2,800 people and injuring thousands. the epicentre of the quake was around 70 km southwest of city of marrakech.\\n\\n\\n== geography ==\\n\\nmorocco has a coast by the atlantic ocean that reaches past the strait of gibraltar into the mediterranean sea. it is bordered by spain to the north (a water border through the strait and land borders with three small spanish-controlled exclaves, ceuta, melilla, and peñón de vélez de la gomera), algeria to the east, and western sahara to the south. since morocco controls most of western sahara, its de facto southern boundary is with mauritania.the internationally recognised borders of the country lie between latitudes 27° and 36°n, and longitudes 1° and 14°w. adding western sahara, morocco lies mostly between 21° and 36°n, and 1° and 17°w (the ras nouadhibou peninsula is slightly south of 21° and west of 17°).the geography of morocco spans from the atlantic ocean, to mountainous areas, to the sahara desert. morocco is a northern african country, bordering the north atlantic ocean and the mediterranean sea, between algeria and the annexed western sahara. it is one of only three nations (along with spain and france) to have both atlantic and mediterranean coastlines.a large part of morocco is mountainous. the atlas mountains are located mainly in the centre and the south of the country. the rif mountains are located in the north of the country. both ranges are mainly inhabited by the berber people. its total area is about 446,300 km2 (172,317 sq mi), excluding western sahara. algeria borders morocco to the east and southeast, though the border between the two countries has been closed since 1994.spanish territory in northwest africa neighbouring morocco comprises five enclaves on the mediterranean coast: ceuta, melilla, peñón de vélez de la gomera, peñón de alhucemas, the chafarinas islands, and the disputed islet perejil. off the atlantic coast the canary islands belong to spain, whereas madeira to the north is portuguese. to the north, morocco is bordered by the strait of gibraltar, where international shipping has unimpeded transit passage between the atlantic and mediterranean.\\nthe rif mountains stretch over the region bordering the mediterranean from the north-west to the north-east. the atlas mountains run down the backbone of the country, from the northeast to the southwest. most of the southeast portion of the country is in the sahara desert and as such is generally sparsely populated and unproductive economically. most of the population lives to the north of these mountains, while to the south lies the western sahara, a former spanish colony that was annexed by morocco in 1975 (see green march). morocco claims that the western sahara is part of its territory and refers to that as its southern provinces.morocco\\'s capital city is rabat; its largest city is its main port, casablanca. other cities recording a population over 500,000 in the 2014 moroccan census are fes, marrakesh, meknes, salé and tangier.morocco is represented in the iso 3166-1 alpha-2 geographical encoding standard by the symbol ma. this code was used as the basis for morocco\\'s internet domain, .ma.\\n\\n\\n=== climate ===\\nin terms of area, morocco is comprised predominantly of \"hot summer mediterranean climate\" (csa) and \"hot desert climate\" (bwh) zones.central mountain ranges and the effects of the cold canary current, off the atlantic coast, are significant factors in morocco\\'s relatively large variety of vegetation zones, ranging from lush forests in the northern and central mountains, giving way to steppe, semi-arid and desert areas in the eastern and southern regions. the moroccan coastal plains experience remarkably moderate temperatures even in summer. on the whole, this range of climates is similar to that of southern california.in the rif, middle and high atlas mountains, there exist several different types of climates: mediterranean along the coastal lowlands, giving way to a humid temperate climate at higher elevations with sufficient moisture to allow for the growth of different species of oaks, moss carpets, junipers, and atlantic fir which is a royal conifer tree endemic to morocco. in the valleys, fertile soils and high precipitation allow for the growth of thick and lush forests. cloud forests can be found in the west of the rif mountains and middle atlas mountains. at higher elevations, the climate becomes alpine in character, and can sustain ski resorts.southeast of the atlas mountains, near the algerian borders, the climate becomes very dry, with long and hot summers. extreme heat and low moisture levels are especially pronounced in the lowland regions east of the atlas range due to the rain shadow effect of the mountain system. the southeasternmost portions of morocco are very hot, and include portions of the sahara desert, where vast swathes of sand dunes and rocky plains are dotted with lush oases.in contrast to the sahara region in the south, coastal plains are fertile in the central and northern regions of the country, and comprise the backbone of the country\\'s agriculture, in which 95% of the population live. the direct exposure to the north atlantic ocean, the proximity to mainland europe and the long stretched rif and atlas mountains are the factors of the rather european-like climate in the northern half of the country. that makes morocco a country of contrasts. forested areas cover about 12% of the country while arable land accounts for 18%. approximately 5% of moroccan land is irrigated for agricultural use.\\nin general, apart from the southeast regions (pre-saharan and desert areas), morocco\\'s climate and geography are very similar to the iberian peninsula. thus morocco has the following climate zones:\\n\\nmediterranean: dominates the coastal mediterranean regions of the country, along the (500 km strip), and some parts of the atlantic coast. summers are hot to moderately hot and dry, average highs are between 29 °c (84.2 °f) and 32 °c (89.6 °f). winters are generally mild and wet, daily average temperatures hover around 9 °c (48.2 °f) to 11 °c (51.8 °f), and average low are around 5 °c (41.0 °f) to 8 °c (46.4 °f), typical to the coastal areas of the west mediterranean. annual precipitation in this area vary from 600 to 800 mm in the west to 350–500 mm in the east. notable cities that fall into this zone are tangier, tetouan, al hoceima, nador and safi.\\nsub-mediterranean: it influences cities that show mediterranean characteristics, but remain fairly influenced by other climates owing to their either relative elevation, or direct exposure to the north atlantic ocean. we thus have two main influencing climates:oceanic: determined by the cooler summers, where highs are around 27 °c (80.6 °f) and in terms of the essaouira region, are almost always around 21 °c (69.8 °f). the medium daily temperatures can get as low as 19 °c (66.2 °f), while winters are chilly to mild and wet. annual precipitation varies from 400 to 700 mm. notable cities that fall into this zone are rabat, casablanca, kénitra, salé and essaouira.continental: determined by the bigger gap between highs and lows, that results in hotter summers and colder winters, than found in typical mediterranean zones. in summer, daily highs can get as high as 40 °c (104.0 °f) during heat waves, but usually are between 32 °c (89.6 °f) and 36 °c (96.8 °f). however, temperatures drop as the sun sets. night temperatures usually fall below 20 °c (68.0 °f), and sometimes as low as 10 °c (50.0 °f) in mid-summer. winters are cooler, and can get below the freezing point multiple times between december and february. also, snow can fall occasionally. fès for example registered −8 °c (17.6 °f) in winter 2005. annual precipitation varies between 500 and 900 mm. notable cities are fès, meknès, chefchaouen, beni-mellal and taza.continental: dominates the mountainous regions of the north and central parts of the country, where summers are hot to very hot, with highs between 32 °c (89.6 °f) and 36 °c (96.8 °f). winters on the other hand are cold, and lows usually go beyond the freezing point. and when cold damp air comes to morocco from the northwest, for a few days, temperatures sometimes get below −5 °c (23.0 °f). it often snows abundantly in this part of the country. precipitation varies between 400 and 800 mm. notable cities are khenifra, imilchil, midelt and azilal.\\nalpine: found in some parts of the middle atlas mountain range and the eastern part of the high atlas mountain range. summers are very warm to moderately hot, and winters are longer, cold and snowy. precipitation varies between 400 and 1200 mm. in summer highs barely go above 30 °c (86.0 °f), and lows are cool and average below 15 °c (59.0 °f). in winters, highs average around 8 °c (46.4 °f), and lows go well below the freezing point. in this part of country, there are many ski resorts, such as oukaimeden and mischliefen. notable cities are ifrane, azrou and boulmane.\\nsemi-arid: this type of climate is found in the south of the country and some parts of the east of the country, where rainfall is lower and annual precipitations are between 200 and 350 mm. however, one usually finds mediterranean characteristics in those regions, such as the precipitation pattern and thermal attributes. notable cities are agadir, marrakesh and oujda.south of agadir and east of jerada near the algerian borders, arid and desert climate starts to prevail.\\ndue to morocco\\'s proximity to the sahara desert and the north sea of the atlantic ocean, two phenomena occur to influence the regional seasonal temperatures, either by raising temperatures by 7–8 degrees celsius when sirocco blows from the east creating heatwaves, or by lowering temperatures by 7–8 degrees celsius when cold damp air blows from the northwest, creating a coldwave or cold spell. however, these phenomena do not last for more than two to five days on average.climate change is expected to significantly impact morocco on multiple dimensions. as a coastal country with hot and arid climates, environmental impacts are likely to be wide and varied. as of the 2019 climate change performance index, morocco was ranked second in preparedness behind sweden.\\n\\n\\n=== biodiversity ===\\n\\nmorocco has a wide range of biodiversity. it is part of the mediterranean basin, an area with exceptional concentrations of endemic species undergoing rapid rates of habitat loss, and is therefore considered to be a hotspot for conservation priority. avifauna are notably variant. the avifauna of morocco includes a total of 454 species, five of which have been introduced by humans, and 156 are rarely or accidentally seen.the barbary lion, hunted to extinction in the wild, was a subspecies native to morocco and is a national emblem. the last barbary lion in the wild was shot in the atlas mountains in 1922. the other two primary predators of northern africa, the atlas bear and barbary leopard, are now extinct and critically endangered, respectively. relic populations of the west african crocodile persisted in the draa river until the 20th century.the barbary macaque, a primate endemic to morocco and algeria, is also facing extinction due to offtake for trade human interruption, urbanisation, wood and real estate expansion that diminish forested area – the macaque\\'s habitat.\\ntrade of animals and plants for food, pets, medicinal purposes, souvenirs and photo props is common across morocco, despite laws making much of it illegal. this trade is unregulated and causing unknown reductions of wild populations of native moroccan wildlife. because of the proximity of northern morocco to europe, species such as cacti, tortoises, mammal skins, and high-value birds (falcons and bustards) are harvested in various parts of the country and exported in appreciable quantities, with especially large volumes of eel harvested – 60 tons exported to the far east in the period 2009‒2011.morocco is home to six terrestrial ecoregions: mediterranean conifer and mixed forests, mediterranean high atlas juniper steppe, mediterranean acacia-argania dry woodlands and succulent thickets, mediterranean dry woodlands and steppe, mediterranean woodlands and forests, and north saharan steppe and woodlands. it had a 2019 forest landscape integrity index mean score of 6.74/10, ranking it 66th globally out of 172 countries.\\n\\n\\n== politics ==\\n\\naccording to the 2022 economist democracy index, morocco is ruled under a hybrid regime, scoring #3 in the middle east and north africa, and #95 in the world. morocco has a \"difficult\" ranking on the 2023 world press freedom index.following the march 1998 elections, a coalition government headed by opposition socialist leader abderrahmane youssoufi and composed largely of ministers drawn from opposition parties, was formed. prime minister youssoufi\\'s government was the first ever government drawn primarily from opposition parties, and also represents the first opportunity for a coalition of socialists, left-of-centre, and nationalist parties to be included in the government until october 2002. it was also the first time in the modern political history of the arab world that the opposition assumed power following an election. the current government is headed by aziz akhannouch.\\nthe constitution of morocco provides for a monarchy with a parliament and an independent judiciary. with the 2011 constitutional reforms, the king of morocco retains less executive powers whereas those of the prime minister have been enlarged.the constitution grants the king honorific powers (among other powers); he is both the secular political leader and the \"commander of the faithful\" as a direct descendant of the prophet mohammed. he presides over the council of ministers; appoints the prime minister from the political party that has won the most seats in the parliamentary elections, and on recommendations from the latter, appoints the members of the government.\\nthe constitution of 1996 theoretically allowed the king to terminate the tenure of any minister, and after consultation with the heads of the higher and lower assemblies, to dissolve the parliament, suspend the constitution, call for new elections, or rule by decree. the only time this happened was in 1965. the king is formally the commander-in-chief of the armed forces.\\n\\n\\n=== legislative branch ===\\nsince the constitutional reform of 1996, the bicameral legislature consists of two chambers. the assembly of representatives of morocco (majlis an-nuwwâb/assemblée des répresentants) has 325 members elected for a five-year term, 295 elected in multi-seat constituencies and 30 in national lists consisting only of women. the assembly of councillors (majlis al-mustasharin) has 270 members, elected for a nine-year term, elected by local councils (162 seats), professional chambers (91 seats) and wage-earners (27 seats).the parliament\\'s powers, though still relatively limited, were expanded under the 1992 and 1996 and even further in the 2011 constitutional revisions and include budgetary matters, approving bills, questioning ministers, and establishing ad hoc commissions of inquiry to investigate the government\\'s actions. the lower chamber of parliament may dissolve the government through a vote of no confidence.the latest parliamentary elections were held on 8 september 2021. voter turnout in these elections was estimated to be 50.35% of registered voters.\\n\\n\\n=== military ===\\n\\nmorocco\\'s military consists of the royal armed forces—this includes the army (the largest branch), the navy, the air force, the royal guard, the royal gendarmerie and the auxiliary forces. internal security is generally effective, and acts of political violence are rare (with one exception, the 2003 casablanca bombings which killed 45 people).\\nthe un maintains a small observer force in western sahara, where a large number of moroccan troops are stationed. the sahrawi polisario front maintains an active militia of an estimated 5,000 fighters in western sahara and has engaged in intermittent warfare with moroccan forces since the 1970s.\\n\\n\\n=== foreign relations ===\\n\\nmorocco is a member of the united nations and belongs to the african union (au), arab league, arab maghreb union (uma), organisation of islamic cooperation (oic), the non-aligned movement and the community of sahel–saharan states (cen_sad). morocco\\'s relationships vary greatly between african, arab, and western states. morocco has had strong ties to the west in order to gain economic and political benefits. france and spain remain the primary trade partners, as well as the primary creditors and foreign investors in morocco. from the total foreign investments in morocco, the european union invests approximately 73.5%, whereas, the arab world invests only 19.3%. many countries from the persian gulf and maghreb regions are getting more involved in large-scale development projects in morocco.\\nmorocco was the only african state not to be a member of the african union due to its unilateral withdrawal on 12 november 1984 over the admission of the sahrawi arab democratic republic in 1982 by the african union (then called organisation of african unity) as a full member without the organisation of a referendum of self-determination in the disputed territory of western sahara. morocco rejoined the au on 30 january 2017. in august 2021, algeria severed diplomatic relations with morocco.a dispute with spain in 2002 over the small island of perejil revived the issue of the sovereignty of melilla and ceuta. these small enclaves on the mediterranean coast are surrounded by morocco and have been administered by spain for centuries.\\nmorocco was given the status of major non-nato ally by the george w. bush administration in 2004. morocco was the first country in the world to recognise us sovereignty (in 1777).\\nmorocco is included in the european union\\'s european neighbourhood policy (enp) which aims at bringing the eu and its neighbours closer.\\n\\n\\n=== western sahara status ===\\n\\nthe status of the saguia el-hamra and río de oro regions is disputed. the western sahara war saw the polisario front, the sahrawi rebel national liberation movement, battling both morocco and mauritania between 1976 and a ceasefire in 1991 that is still in effect. a united nations mission, minurso, is tasked with organizing a referendum on whether the territory should become independent or recognised as a part of morocco.\\npart of the territory, the free zone, is a mostly uninhabited area that the polisario front controls as the sahrawi arab democratic republic. its administrative headquarters are located in tindouf, algeria. as of 2006, no un member state had recognised moroccan sovereignty over western sahara.  in 2020, the united states under the trump administration became the first western country to back morocco\\'s contested sovereignty over the disputed western sahara region, on the agreement that morocco would simultaneously normalize relations with israel.in 2006, the government of morocco suggested autonomous status for the region, through the moroccan royal advisory council for saharan affairs (corcas). the project was presented to the united nations security council in mid-april 2007. the proposal was encouraged by moroccan allies such as the united states, france and spain. the security council has called upon the parties to enter into direct and unconditional negotiations to reach a mutually accepted political solution.\\n\\n\\n=== administrative divisions ===\\nmorocco is officially divided into 12 regions, which, in turn, are subdivided into 62 provinces and 13 prefectures.regions\\n\\ntanger-tetouan-al hoceima\\noriental\\nfès-meknès\\nrabat-salé-kénitra\\nbéni mellal-khénifra\\ncasablanca-settat\\nmarrakesh-safi\\ndrâa-tafilalet\\nsouss-massa\\nguelmim-oued noun\\nlaâyoune-sakia el hamra\\ndakhla-oued ed-dahab\\n\\n\\n=== human rights ===\\n\\nduring the early 1960s to the late 1980s, under the leadership of hassan ii, morocco had one of the worst human rights records in both africa and the world. government repression of political dissent was widespread during hassan ii\\'s leadership, until it dropped sharply in the mid-1990s. the decades during which abuses were committed are referred to as the years of lead (les années de plomb), and included forced disappearances, assassinations of government opponents and protesters, and secret internment camps such as tazmamart. to examine abuses committed during the reign of king hassan ii (1961–1999), the government under king mohammed  set up an equity and reconciliation commission (ier).according to a human rights watch annual report in 2016, moroccan authorities restricted the rights to peaceful expression, association and assembly through several laws. the authorities continue to prosecute both printed and online media which criticizes the government or the king (or the royal family). there are also persistent allegations of violence against both sahrawi pro-independence and pro-polisario demonstrators in western sahara; a disputed territory which is occupied by and considered by morocco as part of its southern provinces. morocco has been accused of detaining sahrawi pro-independence activists as prisoners of conscience.homosexual acts as well as pre-marital sex are illegal in morocco, and can be punishable by six months to three years of imprisonment. it is illegal to proselytise for any religion other than islam (article 220 of the moroccan penal code), and that crime is punishable by a maximum of 15 years of imprisonment. violence against women and sexual harassment have been criminalized. the penalty can be from one month to five years, with fines ranging from $200 to $1,000.it is a criminal offence in morocco to undermine the monarchy: in august 2023, a moroccan resident of qatar was sentenced to five years\\' imprisonment for criticising the king\\'s policy decisions on facebook.\\n\\n\\n== economy ==\\n\\nmorocco\\'s economy is considered a relatively liberal economy governed by the law of supply and demand. since 1993, the country has followed a policy of privatisation of certain economic sectors which used to be in the hands of the government. morocco has become a major player in african economic affairs, and is the fifth largest economy in africa by gdp (ppp). morocco was ranked as the first african country by the economist intelligence unit\\'s quality-of-life index, ahead of south africa. however, in the years since that first-place ranking was given, morocco has slipped into fourth place behind egypt.\\ngovernment reforms and steady yearly growth in the region of 4–5% from 2000 to 2007, including 4.9% year-on-year growth in 2003–2007 helped the moroccan economy to become much more robust compared to a few years earlier. for 2012 the world bank forecast a rate of 4% growth for morocco and 4.2% for following year, 2013.the services sector accounts for just over half of gdp and industry, made up of mining, construction and manufacturing, is an additional quarter. the industries that recorded the highest growth are tourism, telecoms, information technology, and textile.\\n\\n\\n=== tourism ===\\n\\ntourism is one of the most important sectors in moroccan economy. it is well developed with a strong tourist industry focused on the country\\'s coast, culture, and history. morocco attracted more than 13 million tourists in 2019. tourism is the second largest foreign exchange earner in morocco after the phosphate industry. the moroccan government is heavily investing in tourism development, in 2010 the government launched its vision 2020 which plans to make morocco one of the top 20 tourist destinations in the world and to double the annual number of international arrivals to 20 million by 2020, with the hope that tourism will then have risen to 20% of gdp.\\nlarge government sponsored marketing campaigns to attract tourists advertised morocco as an inexpensive and exotic, yet safe, place for tourists. most of the visitors to morocco continue to be european, with french nationals making up almost 20% of all visitors. most europeans visit between april and august. morocco\\'s relatively high number of tourists has been aided by its location—morocco is close to europe and attracts visitors to its beaches. because of its proximity to spain, tourists in southern spain\\'s coastal areas take one- to three-day trips to morocco.\\nsince air services between morocco and algeria have been established, many algerians have gone to morocco to shop and visit family and friends. morocco is relatively inexpensive because of the devaluation of the dirham and the increase of hotel prices in spain. morocco has an excellent road and rail infrastructure that links the major cities and tourist destinations with ports and cities with international airports. low-cost airlines offer reduced-price flights to the country.\\n\\ntourism is increasingly focused on morocco\\'s culture, such as its ancient cities. the modern tourist industry capitalises on morocco\\'s ancient and islamic sites, and on its landscape and cultural history. 60% of morocco\\'s tourists visit for its culture and heritage.\\nagadir is a major coastal resort and has a third of all moroccan bed nights. it is a base for tours to the atlas mountains. other resorts in north morocco are also very popular.casablanca is the major cruise port in morocco, and has the best developed market for tourists in morocco, marrakech in central morocco is a popular tourist destination, but is more popular among tourists for one- and two-day excursions that provide a taste of morocco\\'s history and culture. the majorelle botanical garden in marrakech is a popular tourist attraction. it was bought by the fashion designer yves saint-laurent and pierre bergé in 1980. their presence in the city helped to boost the city\\'s profile as a tourist destination.as of 2006, activity and adventure tourism in the atlas and rif mountains are the fastest growth area in moroccan tourism. these locations have excellent walking and trekking opportunities from late march to mid-november. the government is investing in trekking circuits. they are also developing desert tourism in competition with tunisia.\\n\\n\\n=== agriculture ===\\n\\n\\n=== infrastructure ===\\naccording to the global competitiveness report of 2019, morocco ranked 32nd in the world in terms of roads, 16th in sea, 45th in air and 64th in railways. this gives morocco the best infrastructure rankings in the african continent.modern infrastructure development, such as ports, airports, and rail links, is a top government priority. to meet the growing domestic demand, the moroccan government invested more than $15 billion from 2010 to 2015 in upgrading its basic infrastructure.morocco has one of the best road systems on the continent. over the past 20 years, the government has built approximately 1770 kilometers of modern roads, connecting most major cities via toll expressways.  the moroccan ministry of equipment, transport, logistics, and water aims to build an additional 3380 kilometers of expressway and 2100 kilometers of highway by 2030, at an expected cost of $9.6 billion. it focuses on linking the southern provinces, notably the cities of laayoune and dakhla to the rest of morocco.\\nin 2014, morocco began the construction of the first high-speed railway system in africa linking the cities of tangier and casablanca. it was inaugurated in 2018 by the king following over a decade of planning and construction by moroccan national railway company oncf. it is the first phase of what is planned to eventually be a 1,500 kilometeres (930 mi) high-speed rail network in morocco. an extension of the line to marrakesh is already being planned.\\nmorocco also has the largest port in africa and the mediterranean, tanger-med, which is ranked the 18th in the world with a handling capacity of over 9 million containers. it is situated in the tangier free economic zone and serves as a logistics hub for africa and the world.\\n\\n\\n=== energy ===\\n\\nin 2008, about 56% of morocco\\'s electricity supply was provided by coal. however, as forecasts indicate that energy requirements in morocco will rise 6% per year between 2012 and 2050, a new law passed encouraging moroccans to look for ways to diversify the energy supply, including more renewable resources. the moroccan government has launched a project to build a solar thermal energy power plant and is also looking into the use of natural gas as a potential source of revenue for morocco\\'s government.morocco has embarked upon the construction of large solar energy farms to lessen dependence on fossil fuels, and to eventually export electricity to europe.on 17 april 2022, rabat- moroccan agency for solar energy (masen) and the ministry of energy transition and sustainable development announced the launch of phase one of the mega project nor ii solar energy plant which is a multi-site solar energy project with a total capacity set at 400 megawatts (mn).\\n\\n\\n=== narcotics ===\\nsince the 7th century, cannabis has been cultivated in the rif region. in 2004, according to the un world drugs report, cultivation and transformation of cannabis represents 0.57% of the national gdp of morocco in 2002. according to a french ministry of the interior 2006 report, 80% of the cannabis resin (hashish) consumed in europe comes from the rif region in morocco, which is mostly mountainous terrain in the north of morocco, also hosting plains that are very fertile and expanding from melwiyya river and ras kebdana in the east to tangier and cape spartel in the west. also, the region extends from the mediterranean in the south, home of the wergha river, to the north. in addition to that, morocco is a transit point for cocaine from south america destined for western europe.\\n\\n\\n=== water supply and sanitation ===\\n\\nwater supply and sanitation in morocco is provided by a wide array of utilities. they range from private companies in the largest city, casablanca, the capital, rabat,\\nand two other cities, to public municipal utilities in 13 other cities, as well as a national electricity and water company (onee). the latter is in charge of bulk water supply to the aforementioned utilities, water distribution in about 500 small towns, as well as sewerage and wastewater treatment in 60 of these towns.\\nthere have been substantial improvements in access to water supply, and to a lesser extent to sanitation, over the past fifteen years. remaining challenges include a low level of wastewater treatment (only 13% of collected wastewater is being treated), lack of house connections in the poorest urban neighbourhoods, and limited sustainability of rural systems (20 percent of rural systems are estimated not to function). in 2005 a national sanitation program was approved that aims at treating 60% of collected wastewater and connecting 80% of urban households to sewers by 2020. the issue of lack of water connections for some of the urban poor is being addressed as part of the national human development initiative, under which residents of informal settlements have received land titles and have fees waived that are normally paid to utilities in order to connect to the water and sewer network.\\n\\n\\n== science and technology ==\\n\\nthe moroccan government has been implementing reforms to improve the quality of education and make research more responsive to socio-economic needs. in may 2009, morocco\\'s prime minister, abbas el fassi, announced greater support for science during a meeting at the national centre for scientific and technical research. the aim was to give universities greater financial autonomy from the government to make them more responsive to research needs and better able to forge links with the private sector, in the hope that this would nurture a culture of entrepreneurship in academia. he announced that investment in science and technology would rise from us$620,000 in 2008 to us$8.5 million (69 million moroccan dirhams) in 2009, in order to finance the refurbishment and construction of laboratories, training courses for researchers in financial management, a scholarship programme for postgraduate research and incentive measures for companies prepared to finance research, such as giving them access to scientific results that they could then use to develop new products. morocco was ranked 70th in the global innovation index in 2023.the moroccan innovation strategy was launched at the country\\'s first national innovation summit in june 2009 by the ministry of industry, commerce, investment and the digital economy. the moroccan innovation strategy fixed the target of producing 1,000 moroccan patents and creating 200 innovative start-ups by 2014. in 2012, moroccan inventors applied for 197 patents, up from 152 two years earlier. in 2011, the ministry of industry, commerce and new technologies created a moroccan club of innovation, in partnership with the moroccan office of industrial and commercial property. the idea is to create a network of players in innovation, including researchers, entrepreneurs, students and academics, to help them develop innovative projects.the ministry of higher education and scientific research is supporting research in advanced technologies and the development of innovative cities in fez, rabat and marrakesh.  the government is encouraging public institutions to engage with citizens in innovation. one example is the moroccan phosphate office (office chérifien des phosphates), which has invested in a project to develop a smart city, king mohammed vi green city, around mohammed vi university located between casablanca and marrakesh, at a cost of dh 4.7 billion (circa us$479 million).as of 2015, morocco had three technoparks. since the first technopark was established in rabat in 2005, a second has been set up in casablanca, followed, in 2015, by a third in tangers. the technoparks host start-ups and small and medium-sized enterprises specializing in information and communication technologies (icts), \\'green\\' technologies (namely, environmentally friendly technologies) and cultural industries.in 2012, the hassan ii academy of science and technology identified a number of sectors where morocco has a comparative advantage and skilled human capital, including mining, fisheries, food chemistry and new technologies. it also identified a number of strategic sectors, such as energy, with an emphasis on renewable energies such as photovoltaic, thermal solar energy, wind and biomass; as well as the water, nutrition and health sectors, the environment and geosciences.on 20 may 2015, less than a year after its inception, the higher council for education, training and scientific research presented a report to the king offering a vision for education in morocco 2015–2030. the report advocated making education egalitarian and, thus, accessible to the greatest number. since improving the quality of education goes hand in hand with promoting research and development, the report also recommended developing an integrated national innovation system which would be financed by gradually increasing the share of gdp devoted to research and development (r&d) from 0.73% of gdp in 2010 \\'to 1% in the short term, 1.5% by 2025 and 2% by 2030\\'.\\n\\n\\n== demographics ==\\n\\nmorocco has a population of around 37,076,584 inhabitants (2021 est.). it is estimated that between 44% and 67% of residents are arabs and between 31% and 41% are berbers. a sizeable portion of the population is identified as haratin and gnawa (or gnaoua), west african or mixed-race descendants of slaves, and moriscos, european muslims expelled from spain and portugal in the 17th century. centuries of arab migration to the maghreb since the 7th century shifted the demographic scope of morocco.\\naccording to the 2014 morocco population census, there were around 84,000 immigrants in the country. of these foreign-born residents, most were of french origin, followed by individuals mainly from various nations in west africa and algeria. there are also a number of foreign residents of spanish origin. some of them are descendants of colonial settlers, who primarily work for european multinational companies, while others are married to moroccans or are retirees. prior to independence, morocco was home to half a million europeans; who were mostly christians. also, prior to independence, morocco was home to 250,000 spaniards. morocco\\'s once prominent jewish minority has decreased significantly since its peak of 265,000 in 1948, declining to around 2,500 today.morocco has a large diaspora, most of which is located in france, which has reportedly over one million moroccans of up to the third generation. there are also large moroccan communities in spain (about 700,000 moroccans), the netherlands (360,000), and belgium (300,000). other large communities can be found in italy, canada, the united states, and israel, where moroccan jews are thought to constitute the second biggest jewish ethnic subgroup.\\n\\n\\n=== religion ===\\n\\nthe religious affiliation in the country was estimated by the pew forum in 2010 as 99% muslim, with all remaining groups accounting for less than 1% of the population. of those affiliated with islam, virtually all are sunni muslims, with shia muslims accounting for less than 0.1%. however, nearly 15% of moroccans nonetheless describe themselves as non religious according to an 2018 survey conducted by the research network arab barometer; the same survey saw nearly 100 percent of respondents identify as muslims. another 2021 arab barometer survey found that 67.8% of moroccans identified as religious, 29.1% as somewhat religious, and 3.1% as non religious. the 2015 gallup international poll reported that 93% of moroccans considered themselves to be religious.\\nprior to independence, morocco was home to more than 500,000 christians (mostly of spanish and french ancestry). many christian settlers left to spain or france after the independence in 1956. the predominantly catholic and protestant foreign-resident christian community consists of approximately 40,000 practising members. most foreign resident christians reside in the casablanca, tangier, and rabat urban areas. various local christian leaders estimate that between 2005 and 2010 there are 5,000 citizen converted christians (mostly ethnically berber) who regularly attend \"house\" churches and live predominantly in the south. some local christian leaders estimate that there may be as many as 8,000 christian citizens throughout the country, but many reportedly do not meet regularly due to fear of government surveillance and social persecution. the number of the moroccans who converted to christianity (most of them secret worshippers) are estimated between 8,000 and 50,000.the most recent estimates put the size of the historic casablanca jewish community at about 2,500, and the rabat and marrakesh jewish communities at about 100 members each. the remainder of the jewish population is dispersed throughout the country. this population is mostly elderly, with a decreasing number of young people.\\nthe baháʼí faith community, located in urban areas, numbers 350 to 400 persons.\\n\\n\\n=== languages ===\\n\\nmorocco\\'s official languages are arabic and berber. the country\\'s distinctive group of moroccan arabic dialects is referred to as darija. approximately 89.8% of the whole population can communicate to some degree in moroccan arabic. the berber language is spoken in three dialects (tarifit, tashelhit and central atlas tamazight). in 2008, frédéric deroche estimated that there were 12 million berber speakers, making up about 40% of the population. the 2004 population census reported that 28.1% of the population spoke berber.french is widely used in governmental institutions, media, mid-size and large companies, international commerce with french-speaking countries, and often in international diplomacy. french is taught as an obligatory language in all schools. in 2010, there were 10,366,000 french-speakers in morocco, or about 32% of the population.according to the 2004 census, 2.19 million moroccans spoke a foreign language other than french. english, while far behind french in terms of number of speakers, is the first foreign language of choice, since french is obligatory, among educated youth and professionals.\\naccording to ethnologue, as of 2016, there are 1,536,590 individuals (or approximately 4.5% of the population) in morocco who speak spanish. spanish is mostly spoken in northern morocco and the former spanish sahara because spain had previously occupied those areas. meanwhile, a 2018 study by the instituto cervantes found 1.7 million moroccans who were at least proficient in spanish, placing morocco as the country with the most spanish speakers outside the hispanophone world (unless the united states is also excluded from spanish-speaking countries). a significant portion of northern morocco receives spanish media, television signal and radio airwaves, which reportedly facilitate competence in the language in the region.after morocco declared independence in 1956, french and arabic became the main languages of administration and education, causing the role of spanish to decline.\\n\\n\\n=== education ===\\n\\neducation in morocco is free and compulsory through primary school. the estimated literacy rate for the country in 2012 was 72%. in september 2006, unesco awarded morocco amongst other countries such as cuba, pakistan, india and turkey the \"unesco 2006 literacy prize\".morocco has more than four dozen universities, institutes of higher learning, and polytechnics dispersed at urban centres throughout the country. its leading institutions include mohammed v university in rabat, the country\\'s largest university, with branches in casablanca and fès; the hassan ii agriculture and veterinary institute in rabat, which conducts leading social science research in addition to its agricultural specialties; and al-akhawayn university in ifrane, the first english-language university in northwest africa, inaugurated in 1995 with contributions from saudi arabia and the united states.\\n\\nthe al-qarawiyin university, founded by fatima al-fihri in the city of fez in 859 as a madrasa, is considered by some sources, including unesco, to be the \"oldest university of the world\". morocco has also some of prestigious postgraduate schools, including: mohammed vi polytechnic university, l\\'institut national des postes et télécommunications, école nationale supérieure d\\'électricité et de mecanique (ensem), emi, iscae, insea, national school of mineral industry, école hassania des travaux publics, les écoles nationales de commerce et de gestion, école supérieure de technologie de casablanca.\\n\\n\\n=== health ===\\n\\nmany efforts are made by countries around the world to address health issues and eradicate disease, morocco included. child health, maternal health, and diseases are all components of health and well-being. morocco is a developing country that has made many strides to improve these categories. however, morocco still has many health issues to improve on. according to research published, in 2005 only 16% of citizens in morocco had health insurance or coverage. in data from the world bank, morocco experiences high infant mortality rates at 20 deaths per 1,000 births (2017) and high maternal mortality rates at 121 deaths per 100,000 births (2015).the government of morocco sets up surveillance systems within the already existing healthcare system to monitor and collect data. mass education in hygiene is implemented in primary education schools which are free for residents of morocco. in 2005, the government of morocco approved two reforms to expand health insurance coverage. the first reform was a mandatory health insurance plan for public and private sector employees to expand coverage from 16 percent of the population to 30 percent. the second reform created a fund to cover services for the poor. both reforms improved access to high-quality care. infant mortality has improved significantly since 1960 when there were 144 deaths per 1,000 live births, in 2000, 42 per 1,000 live births, and now it is 20 per 1,000 live births. the country\\'s under-five mortality rate dropped by 60% between 1990 and 2011.\\naccording to data from the world bank, the present mortality rate is still very high, over seven times higher than in neighboring country spain. in 2014, morocco adopted a national plan to increase progress on maternal and child health. the moroccan plan was started by the moroccan minister of health, el houssaine louardi, and ala alwan, who regional director for the eastern mediterranean region, on 13 november 2013 in rabat. morocco has made significant progress in reducing deaths among both children and mothers. based on world bank data, the nation\\'s maternal mortality ratio fell by 67% between 1990 and 2010. in 2014, spending on healthcare accounted for 5.9% of the country\\'s gdp. since 2014, spending on healthcare as part of the gdp has decreased. however, health expenditure per capita (ppp) has steadily increased since 2000. in 2015, the moroccan health expenditure was $435.29 per capita.  in 2016 the life expectancy at birth was 74.3, or 73.3 for men and 75.4 for women, and there were 6.3 physicians and 8.9 nurses and midwives per 10,000 inhabitants. in 2017, morocco ranked 16th out of 29 countries on the global youth wellbeing index. moroccan youths experience a lower self-harm rate than the global index by an average of 4 encounters per year.\\n\\n\\n== culture ==\\n\\nmorocco is a country with a rich culture and civilisation. through moroccan history, it has hosted many people. all of whom have affected the social structure of morocco.\\nsince independence, a veritable blossoming has taken place in painting and sculpture, popular music, amateur theatre, and filmmaking. the moroccan national theatre (founded 1956) offers regular productions of moroccan and french dramatic works. art and music festivals take place throughout the country during the summer months, among them the world sacred music festival at fès.\\neach region possesses its own specificities, thus contributing to the national culture and to the legacy of civilization. morocco has set among its top priorities the protection of its diverse legacy and the preservation of its cultural heritage.culturally speaking, morocco has always been successful in combining its arabic, berber and jewish cultural heritage with external influences such as the french and the spanish and, during the last decades, the anglo-american lifestyles.\\n\\n\\n=== architecture ===\\n\\n\\n=== literature ===\\n\\nmoroccan literature is written mostly in arabic, berber, hebrew, and french. particularly under the almoravid and almohad empires, moroccan literature was closely related to the literature of al-andalus, and shared important poetic and literary forms such as zajal, the muwashshah, and the maqama. islamic literature, such as quranic exegeses and other religious works such as qadi ayyad\\'s al-shifa were influential. the university of al-qarawiyyin in fes was an important literary center attracting scholars from abroad, including maimonides, ibn al-khatib, and ibn khaldun.\\nunder the almohad dynasty morocco experienced a period of prosperity and brilliance of learning. the almohad built the kutubiyya mosque in marrakesh, which accommodated no fewer than 25,000 people, but was also famed for its books, manuscripts, libraries and book shops, which gave it its name; the first book bazaar in history. the almohad caliph abu yakub had a great love for collecting books. he founded a great library, which was eventually carried to the casbah and turned into a public library.\\nmodern moroccan literature began in the 1930s. two main factors gave morocco a pulse toward witnessing the birth of a modern literature. morocco, as a french and spanish protectorate left moroccan intellectuals the opportunity to exchange and to produce literary works freely enjoying the contact of other arabic literature and europe. three generations of writers especially shaped 20th century moroccan literature. the first was the generation that lived and wrote during the protectorate (1912–56), its most important representative being mohammed ben brahim (1897–1955).\\nthe second generation was the one that played an important role in the transition to independence with writers like abdelkrim ghallab (1919–2006), allal al-fassi (1910–1974) and mohammed al-mokhtar soussi (1900–1963). the third generation is that of writers of the sixties. moroccan literature then flourished with writers such as mohamed choukri, driss chraïbi, mohamed zafzaf and driss el khouri. those writers were an important influence to the many moroccan novelists, poets and playwrights that were still to come.\\nduring the 1950s and 1960s, morocco was a refuge and artistic centre and attracted writers as paul bowles, tennessee williams and william s. burroughs. moroccan literature flourished with novelists such as mohamed zafzaf and mohamed choukri, who wrote in arabic, and driss chraïbi and tahar ben jelloun who wrote in french. other important moroccan authors include, abdellatif laabi, abdelkrim ghallab, fouad laroui, mohammed berrada and leila abouzeid. orature (oral literature) is an integral part of moroccan culture, be it in moroccan arabic or berber.\\n\\n\\n=== music ===\\n\\nmoroccan music is of arabic, berber and sub-saharan origins. rock-influenced chaabi bands are widespread, as is trance music with historical origins in islamic music.\\nmorocco is home to andalusian classical music that is found throughout northwest africa. it probably evolved under the moors in cordoba, and the persian-born musician ziryab is usually credited with its invention. a genre known as contemporary andalusian music and art is the brainchild of morisco visual artist/composer/oudist tarik banzi, founder of the al-andalus ensemble.\\n\\naita is a bedouin musical style sung in the countryside.\\nchaabi (\"popular\") is a music consisting of numerous varieties which are descended from the multifarious forms of moroccan folk music. chaabi was originally performed in markets, but is now found at any celebration or meeting.\\npopular western forms of music are becoming increasingly popular in morocco, such as fusion, rock, country, metal and, in particular, hip hop.\\nmorocco participated in the 1980 eurovision song contest, where it finished in the penultimate position.\\n\\n\\n=== media ===\\n\\ncinema in morocco has a long history, stretching back over a century to the filming of le chevrier marocain (\"the moroccan goatherd\") by louis lumière in 1897. between that time and 1944, many foreign movies were shot in the country, especially in the ouarzazate area. in 1944, the moroccan cinematographic center (ccm), the nation\\'s film regulatory agency, was established. studios were also opened in rabat.\\nin 1952, orson welles\\' othello won the palme d\\'or at the cannes film festival under the moroccan flag. however, the festival\\'s musicians did not play the moroccan national anthem, as no one in attendance knew what it was. six years later, mohammed ousfour would create the first moroccan movie, le fils maudit (\"the damned son\").\\nin 1968, the first mediterranean film festival was held in tangier. in its current incarnation, the event is held in tetouan. this was followed in 1982 with the first national festival of cinema, which was held in rabat. in 2001, the first international film festival of marrakech (fifm) was also held in marrakech.\\n\\n\\n=== cuisine ===\\n\\nmoroccan cuisine is considered one of the most diversified cuisines in the world. this is a result of the centuries-long interaction of morocco with the outside world. the cuisine of morocco is mainly a fusion of moorish, european and mediterranean cuisines.\\nspices are used extensively in moroccan cuisine. while spices have been imported to morocco for thousands of years, many ingredients such as saffron from tiliouine, mint and olives from meknes, and oranges and lemons from fez, are home-grown. chicken is the most widely eaten meat in morocco. the most commonly eaten red meat in morocco is beef; lamb is preferred but is relatively expensive. the main moroccan dish most people are familiar with is couscous, the old national delicacy.\\nbeef is the most commonly eaten red meat in morocco, usually eaten in a tagine with vegetables or legumes. chicken is also very commonly used in tagines, knowing that one of the most famous tagine is the tagine of chicken, potatoes and olives. lamb is also consumed, but as northwest african sheep breeds store most of their fat in their tails, moroccan lamb does not have the pungent flavour that western lamb and mutton have. poultry is also very common, and the use of seafood is increasing in moroccan food. in addition, there are dried salted meats and salted preserved meats such as kliia/khlia and \"g\\'did\" which are used to flavor tagines or used in \"el ghraif\" a folded savory moroccan pancake.\\namong the most famous moroccan dishes are couscous, pastilla (also spelled bsteeya or bestilla), tajine, tanjia and harira. although the latter is a soup, it is considered a dish in itself and is served as such or with dates especially during the month of ramadan. pork consumption is forbidden in accordance with sharia, religious laws of islam.\\na big part of the daily meal is bread. bread in morocco is principally from durum wheat semolina known as khobz. bakeries are very common throughout morocco and fresh bread is a staple in every city, town and village. the most common is whole grain coarse ground or white flour bread. there are also a number of flat breads and pulled unleavened pan-fried breads.\\nthe most popular drink is \"atai\", green tea with mint leaves and other ingredients. tea occupies a very important place in the culture of morocco and is considered an art form. it is served not only at mealtimes but all through the day, and it is especially a drink of hospitality, commonly served whenever there are guests. it is served to guests, and it is impolite to refuse it.\\n\\n\\n=== sport ===\\n\\nfootball is the country\\'s most popular sport, popular among the urban youth in particular. in 1986, morocco became the first arab and african country to qualify for the second round of the fifa world cup. morocco hosted the africa cup of nations in 1988 and will host it again in 2025 after original host guinea was stripped from hosting rights due to inadequacy of hosting preparations. morocco was originally scheduled to host the 2015 africa cup of nations, but refused to host the tournament on the scheduled dates because of fears over the ebola outbreak on the continent. morocco made six attempts to host the fifa world cup but lost five times to the united states, france, germany, south africa and a canada–mexico–united states joint bid, however morocco will co-host it in 2030 along with portugal and spain having finally won the bid in their sixth attempt. in 2022, morocco became the first african and arab team to reach the semifinals and finished 4th in the tournament.\\nat the 1984 olympic games, two moroccans won gold medals in track and field. nawal el moutawakel won in the 400 metres hurdles; she was the first woman from an arab or islamic country to win an olympic gold medal. saïd aouita won the 5000 metres at the same games. hicham el guerrouj won gold medals for morocco at the 2004 summer olympics in the 1500 metres and 5000 metres and holds several world records in the mile run.\\nspectator sports in morocco traditionally centered on the art of horsemanship until european sports—football, polo, swimming, and tennis—were introduced at the end of the 19th century. tennis and golf have become popular. several moroccan professional players have competed in international competition, and the country fielded its first davis cup team in 1999.\\nmorocco was one of the continent\\'s pioneers in basketball as it established one of africa\\'s first competitive leagues.rugby came to morocco in the early 20th century, mainly by the french who occupied the country. as a result, moroccan rugby was tied to the fortunes of france, during the first and second world war, with many moroccan players going away to fight. like many other maghreb nations, moroccan rugby tended to look to europe for inspiration, rather than to the rest of africa.\\nkickboxing is also popular in morocco. the moroccan-dutch badr hari, heavyweight kickboxer and martial artist, is a former k-1 heavyweight champion and k-1 world grand prix 2008 and 2009 finalist.\\n\\n\\n== see also ==\\nindex of morocco-related articles\\noutline of morocco\\n\\n\\n== notes ==\\n\\n\\n== references ==\\n\\n\\n=== citations ===\\n\\n\\n=== sources ===\\n\\n\\n== further reading ==\\npennell, c. r. morocco since 1830: a history, new york university press, 2000. isbn 9780814766774\\npennell, c. r. morocco: from empire to independence, oneworld publications, 2013. isbn 9781780744551 (preview)\\nstenner, david. globalizing morocco: transnational activism and the postcolonial state (stanford up, 2019). online review\\nterrasse, henri. history of morocco, éd. atlantides, 1952.in frenchbernard lugan, histoire du maroc, éd. perrin, 2000. isbn 2-262-01644-5\\nmichel abitbol, histoire du maroc, éd. perrin, 2009. isbn 9782262023881\\n\\n\\n== external links ==\\n\\nofficial website of the government of morocco\\nofficial bulletins of the government of morocco\\nparliament of morocco\\nofficial website of the moroccan national tourist office\\ncensus results of 1994 and 2004 archived 24 july 2012 at the wayback machine\\nmorocco. the world factbook. central intelligence agency.\\nmorocco web resources provided by govpubs at the university of colorado boulder libraries\\nmorocco at curlie\\nmorocco profile from the bbc news\\n wikimedia atlas of morocco\\nkey development forecasts for morocco from international futures\\neu neighbourhood info centre: morocco archived 11 september 2015 at the wayback machine\\nworld bank summary trade statistics morocco'"
      ]
     },
     "execution_count": 4,
     "metadata": {},
     "output_type": "execute_result"
    }
   ],
   "source": [
    "page_content"
   ]
  },
  {
   "cell_type": "code",
   "execution_count": 5,
   "id": "895bd4b3-a3b8-4b0d-aca6-fe3e75034448",
   "metadata": {},
   "outputs": [
    {
     "name": "stdout",
     "output_type": "stream",
     "text": [
      "morocco officially the kingdom of morocco is a country in the maghreb region of north africa it overlooks the mediterranean sea to the north and the atlantic ocean to the west and has land borders with algeria to the east and the disputed territory of western sahara to the south morocco also claims the spanish exclaves of ceuta melilla and pe n de v lez de la gomera and several small spanish controlled islands off its coast it spans an area of km sq mi or km sq mi with a population of roughly million its official and predominant religion is islam and the official languages are arabic and berber tamazight french and the moroccan dialect of arabic are also widely spoken moroccan identity and culture is a mix of arab berber african and european cultures its capital is rabat while its largest city is casablanca the region constituting morocco has been inhabited since the paleolithic era over years ago the idrisid dynasty was established by idris i in and was subsequently ruled by a series of other independent dynasties reaching its zenith as a regional power in the th and th centuries under the almoravid and almohad dynasties when it controlled most of the iberian peninsula and the maghreb centuries of arab migration to the maghreb since the th century shifted the demographic scope of the region in the th and th centuries morocco faced external threats to its sovereignty with portugal seizing some territory and the ottoman empire encroaching from the east the marinid and saadi dynasties otherwise resisted foreign domination and morocco was the only north african nation to escape ottoman dominion the alawi dynasty which rules the country to this day seized power in and over the next two centuries expanded diplomatic and commercial relations with the western world morocco s strategic location near the mouth of the mediterranean drew renewed european interest in france and spain divided the country into respective protectorates reserving an international zone in tangier following intermittent riots and revolts against colonial rule in morocco regained its independence and reunified since independence morocco has remained relatively stable it has the fifth largest economy in africa and wields significant influence in both africa and the arab world it is considered a middle power in global affairs and holds membership in the arab league the arab maghreb union the union for the mediterranean and the african union morocco is a unitary semi constitutional monarchy with an elected parliament the executive branch is led by the king of morocco and the prime minister while legislative power is vested in the two chambers of parliament the house of representatives and the house of councillors judicial power rests with the constitutional court which may review the validity of laws elections and referendums the king holds vast executive and legislative powers especially over the military foreign policy and religious affairs he can issue decrees called dahirs which have the force of law and can also dissolve the parliament after consulting the prime minister and the president of the constitutional court morocco claims ownership of the non self governing territory of western sahara which it has designated its southern provinces in after spain agreed to decolonise the territory and cede its control to morocco and mauritania a guerrilla war broke out between those powers and some of the local inhabitants in mauritania relinquished its claim to the area but the war continued to rage in a ceasefire agreement was reached but the issue of sovereignty remained unresolved today morocco occupies two thirds of the territory and efforts to resolve the dispute have thus far failed to break the political deadlock name and etymology the english morocco is an anglicisation of the spanish name for the country marruecos derived from the name of the city of marrakesh which was the capital of the almoravid dynasty the almohad caliphate and the saadian dynasty during the almoravid dynasty the city of marrakesh was established under the name of t mur ku t derived from the city s ancient berber name of am r n yaku lit land country of god historically the territory has been part of what muslim geographers referred to as al maghrib al aq the farthest west of the islamic world designating roughly the area from tiaret to the atlantic in contrast with neighbouring regions of al maghrib al awsa the middle west tripoli to b ja a and al maghrib al adn the nearest west alexandria to tripoli morocco s modern arabic name is al maghrib transl the land of the sunset the west with the kingdom s official arabic name being al mamlakah al maghrib yah transl the kingdom of\n"
     ]
    }
   ],
   "source": [
    "max_length = 5000\n",
    "truncated_content = page_content[:max_length]\n",
    "\n",
    "cleaned_content = \" \".join(re.sub(r'[^a-z]', ' ', truncated_content).split())\n",
    "\n",
    "print(cleaned_content)"
   ]
  },
  {
   "cell_type": "code",
   "execution_count": 6,
   "id": "cecc4023-7a7f-42f1-b16c-3b89df134c45",
   "metadata": {},
   "outputs": [],
   "source": [
    "import nltk \n",
    "from nltk.corpus import stopwords"
   ]
  },
  {
   "cell_type": "code",
   "execution_count": 7,
   "id": "e7eedbed-b2b6-4489-b63f-18a0251afa09",
   "metadata": {},
   "outputs": [],
   "source": [
    "stop_words_set = set(stopwords.words(\"english\"))"
   ]
  },
  {
   "cell_type": "code",
   "execution_count": 8,
   "id": "cf018100-fff6-4205-892e-ec54b847fb2f",
   "metadata": {},
   "outputs": [],
   "source": [
    "content = \" \".join(filter(lambda word: word not in stop_words_set, cleaned_content.split()))"
   ]
  },
  {
   "cell_type": "code",
   "execution_count": 9,
   "id": "32623bad-72ad-45fa-baa2-2b0f99503ddc",
   "metadata": {},
   "outputs": [
    {
     "data": {
      "text/plain": [
       "'morocco officially kingdom morocco country maghreb region north africa overlooks mediterranean sea north atlantic ocean west land borders algeria east disputed territory western sahara south morocco also claims spanish exclaves ceuta melilla pe n de v lez de la gomera several small spanish controlled islands coast spans area km sq mi km sq mi population roughly million official predominant religion islam official languages arabic berber tamazight french moroccan dialect arabic also widely spoken moroccan identity culture mix arab berber african european cultures capital rabat largest city casablanca region constituting morocco inhabited since paleolithic era years ago idrisid dynasty established idris subsequently ruled series independent dynasties reaching zenith regional power th th centuries almoravid almohad dynasties controlled iberian peninsula maghreb centuries arab migration maghreb since th century shifted demographic scope region th th centuries morocco faced external threats sovereignty portugal seizing territory ottoman empire encroaching east marinid saadi dynasties otherwise resisted foreign domination morocco north african nation escape ottoman dominion alawi dynasty rules country day seized power next two centuries expanded diplomatic commercial relations western world morocco strategic location near mouth mediterranean drew renewed european interest france spain divided country respective protectorates reserving international zone tangier following intermittent riots revolts colonial rule morocco regained independence reunified since independence morocco remained relatively stable fifth largest economy africa wields significant influence africa arab world considered middle power global affairs holds membership arab league arab maghreb union union mediterranean african union morocco unitary semi constitutional monarchy elected parliament executive branch led king morocco prime minister legislative power vested two chambers parliament house representatives house councillors judicial power rests constitutional court may review validity laws elections referendums king holds vast executive legislative powers especially military foreign policy religious affairs issue decrees called dahirs force law also dissolve parliament consulting prime minister president constitutional court morocco claims ownership non self governing territory western sahara designated southern provinces spain agreed decolonise territory cede control morocco mauritania guerrilla war broke powers local inhabitants mauritania relinquished claim area war continued rage ceasefire agreement reached issue sovereignty remained unresolved today morocco occupies two thirds territory efforts resolve dispute thus far failed break political deadlock name etymology english morocco anglicisation spanish name country marruecos derived name city marrakesh capital almoravid dynasty almohad caliphate saadian dynasty almoravid dynasty city marrakesh established name mur ku derived city ancient berber name r n yaku lit land country god historically territory part muslim geographers referred al maghrib al aq farthest west islamic world designating roughly area tiaret atlantic contrast neighbouring regions al maghrib al awsa middle west tripoli b ja al maghrib al adn nearest west alexandria tripoli morocco modern arabic name al maghrib transl land sunset west kingdom official arabic name al mamlakah al maghrib yah transl kingdom'"
      ]
     },
     "execution_count": 9,
     "metadata": {},
     "output_type": "execute_result"
    }
   ],
   "source": [
    "content"
   ]
  },
  {
   "cell_type": "code",
   "execution_count": 10,
   "id": "2894906a-9ce3-49af-9091-3a39d12e3c12",
   "metadata": {},
   "outputs": [],
   "source": [
    "from textblob import Word"
   ]
  },
  {
   "cell_type": "code",
   "execution_count": 11,
   "id": "b1ae6e4a-00a0-472d-bda9-66ca1d3b74db",
   "metadata": {},
   "outputs": [],
   "source": [
    "content = \" \".join(Word(word).lemmatize() for word in content.split())"
   ]
  },
  {
   "cell_type": "code",
   "execution_count": 12,
   "id": "92d49c5f-0b9f-4a41-a163-d070d889d0bf",
   "metadata": {},
   "outputs": [],
   "source": [
    "content = \" \".join(Word(word).stem() for word in content.split())"
   ]
  },
  {
   "cell_type": "code",
   "execution_count": 13,
   "id": "779e0076-4766-4752-a27a-4084af73370f",
   "metadata": {},
   "outputs": [
    {
     "data": {
      "text/plain": [
       "'morocco offici kingdom morocco countri maghreb region north africa overlook mediterranean sea north atlant ocean west land border algeria east disput territori western sahara south morocco also claim spanish exclav ceuta melilla pe n de v lez de la gomera sever small spanish control island coast span area km sq mi km sq mi popul roughli million offici predomin religion islam offici languag arab berber tamazight french moroccan dialect arab also wide spoken moroccan ident cultur mix arab berber african european cultur capit rabat largest citi casablanca region constitut morocco inhabit sinc paleolith era year ago idrisid dynasti establish idri subsequ rule seri independ dynasti reach zenith region power th th centuri almoravid almohad dynasti control iberian peninsula maghreb centuri arab migrat maghreb sinc th centuri shift demograph scope region th th centuri morocco face extern threat sovereignti portug seiz territori ottoman empir encroach east marinid saadi dynasti otherwis resist foreign domin morocco north african nation escap ottoman dominion alawi dynasti rule countri day seiz power next two centuri expand diplomat commerci relat western world morocco strateg locat near mouth mediterranean drew renew european interest franc spain divid countri respect protector reserv intern zone tangier follow intermitt riot revolt coloni rule morocco regain independ reunifi sinc independ morocco remain rel stabl fifth largest economi africa wield signific influenc africa arab world consid middl power global affair hold membership arab leagu arab maghreb union union mediterranean african union morocco unitari semi constitut monarchi elect parliament execut branch led king morocco prime minist legisl power vest two chamber parliament hous repres hous councillor judici power rest constitut court may review valid law elect referendum king hold vast execut legisl power especi militari foreign polici religi affair issu decre call dahir forc law also dissolv parliament consult prime minist presid constitut court morocco claim ownership non self govern territori western sahara design southern provinc spain agre decolonis territori cede control morocco mauritania guerrilla war broke power local inhabit mauritania relinquish claim area war continu rage ceasefir agreement reach issu sovereignti remain unresolv today morocco occupi two third territori effort resolv disput thu far fail break polit deadlock name etymolog english morocco anglicis spanish name countri marrueco deriv name citi marrakesh capit almoravid dynasti almohad caliph saadian dynasti almoravid dynasti citi marrakesh establish name mur ku deriv citi ancient berber name r n yaku lit land countri god histor territori part muslim geograph refer al maghrib al aq farthest west islam world design roughli area tiaret atlant contrast neighbour region al maghrib al awsa middl west tripoli b ja al maghrib al adn nearest west alexandria tripoli morocco modern arab name al maghrib transl land sunset west kingdom offici arab name al mamlakah al maghrib yah transl kingdom'"
      ]
     },
     "execution_count": 13,
     "metadata": {},
     "output_type": "execute_result"
    }
   ],
   "source": [
    "content"
   ]
  },
  {
   "cell_type": "code",
   "execution_count": 20,
   "id": "96543b35-3a95-4a03-a44b-2e4693394c37",
   "metadata": {},
   "outputs": [],
   "source": [
    "tokens = content.split()"
   ]
  },
  {
   "cell_type": "code",
   "execution_count": 22,
   "id": "1c6f94db-c133-483a-993a-04be390105e7",
   "metadata": {},
   "outputs": [],
   "source": [
    "set_words = set(tokens)"
   ]
  },
  {
   "cell_type": "code",
   "execution_count": 24,
   "id": "0b7c0dbc-4d18-4ae3-b40e-65d244e3e498",
   "metadata": {},
   "outputs": [],
   "source": [
    "vocab = {word: i for i, word in enumerate(set_words)}"
   ]
  },
  {
   "cell_type": "code",
   "execution_count": 25,
   "id": "f9a2d89d-c9fc-435b-8946-d75684a3be4e",
   "metadata": {},
   "outputs": [
    {
     "data": {
      "text/plain": [
       "{'scope': 0,\n",
       " 'valid': 1,\n",
       " 'sea': 2,\n",
       " 'polit': 3,\n",
       " 'spain': 4,\n",
       " 'forc': 5,\n",
       " 'coast': 6,\n",
       " 'god': 7,\n",
       " 'atlant': 8,\n",
       " 'south': 9,\n",
       " 'tripoli': 10,\n",
       " 'western': 11,\n",
       " 'affair': 12,\n",
       " 'guerrilla': 13,\n",
       " 'european': 14,\n",
       " 'spanish': 15,\n",
       " 'court': 16,\n",
       " 'paleolith': 17,\n",
       " 'peninsula': 18,\n",
       " 'citi': 19,\n",
       " 'break': 20,\n",
       " 'far': 21,\n",
       " 'self': 22,\n",
       " 'mi': 23,\n",
       " 'idri': 24,\n",
       " 'v': 25,\n",
       " 'dominion': 26,\n",
       " 'reserv': 27,\n",
       " 'call': 28,\n",
       " 'rule': 29,\n",
       " 'war': 30,\n",
       " 'span': 31,\n",
       " 'melilla': 32,\n",
       " 'religion': 33,\n",
       " 'spoken': 34,\n",
       " 'era': 35,\n",
       " 'saadi': 36,\n",
       " 'global': 37,\n",
       " 'portug': 38,\n",
       " 'territori': 39,\n",
       " 'dialect': 40,\n",
       " 'ja': 41,\n",
       " 'area': 42,\n",
       " 'union': 43,\n",
       " 'alexandria': 44,\n",
       " 'protector': 45,\n",
       " 'vest': 46,\n",
       " 'popul': 47,\n",
       " 'islam': 48,\n",
       " 'next': 49,\n",
       " 'fifth': 50,\n",
       " 'middl': 51,\n",
       " 'disput': 52,\n",
       " 'chamber': 53,\n",
       " 'control': 54,\n",
       " 'especi': 55,\n",
       " 'religi': 56,\n",
       " 'design': 57,\n",
       " 'offici': 58,\n",
       " 'repres': 59,\n",
       " 'awsa': 60,\n",
       " 'neighbour': 61,\n",
       " 'king': 62,\n",
       " 'zenith': 63,\n",
       " 'escap': 64,\n",
       " 'provinc': 65,\n",
       " 'independ': 66,\n",
       " 'fail': 67,\n",
       " 'deadlock': 68,\n",
       " 'histor': 69,\n",
       " 'agre': 70,\n",
       " 'africa': 71,\n",
       " 'stabl': 72,\n",
       " 'subsequ': 73,\n",
       " 'casablanca': 74,\n",
       " 'prime': 75,\n",
       " 'referendum': 76,\n",
       " 'today': 77,\n",
       " 'ku': 78,\n",
       " 'north': 79,\n",
       " 'roughli': 80,\n",
       " 'million': 81,\n",
       " 'establish': 82,\n",
       " 'foreign': 83,\n",
       " 'la': 84,\n",
       " 'almohad': 85,\n",
       " 'shift': 86,\n",
       " 'centuri': 87,\n",
       " 'reunifi': 88,\n",
       " 'ottoman': 89,\n",
       " 'th': 90,\n",
       " 'east': 91,\n",
       " 'franc': 92,\n",
       " 'consid': 93,\n",
       " 'day': 94,\n",
       " 'local': 95,\n",
       " 'part': 96,\n",
       " 'pe': 97,\n",
       " 'decre': 98,\n",
       " 'transl': 99,\n",
       " 'mediterranean': 100,\n",
       " 'rabat': 101,\n",
       " 'inhabit': 102,\n",
       " 'mauritania': 103,\n",
       " 'effort': 104,\n",
       " 'morocco': 105,\n",
       " 'countri': 106,\n",
       " 'presid': 107,\n",
       " 'ceasefir': 108,\n",
       " 'saadian': 109,\n",
       " 'tangier': 110,\n",
       " 'strateg': 111,\n",
       " 'riot': 112,\n",
       " 'demograph': 113,\n",
       " 'english': 114,\n",
       " 'resist': 115,\n",
       " 'claim': 116,\n",
       " 'marinid': 117,\n",
       " 'signific': 118,\n",
       " 'councillor': 119,\n",
       " 'algeria': 120,\n",
       " 'french': 121,\n",
       " 'ancient': 122,\n",
       " 'capit': 123,\n",
       " 'expand': 124,\n",
       " 'lit': 125,\n",
       " 'predomin': 126,\n",
       " 'tamazight': 127,\n",
       " 'constitut': 128,\n",
       " 'largest': 129,\n",
       " 'near': 130,\n",
       " 'judici': 131,\n",
       " 'rest': 132,\n",
       " 'follow': 133,\n",
       " 'remain': 134,\n",
       " 'african': 135,\n",
       " 'island': 136,\n",
       " 'iberian': 137,\n",
       " 'relat': 138,\n",
       " 'de': 139,\n",
       " 'dynasti': 140,\n",
       " 'reach': 141,\n",
       " 'border': 142,\n",
       " 'decolonis': 143,\n",
       " 'rage': 144,\n",
       " 'empir': 145,\n",
       " 'farthest': 146,\n",
       " 'non': 147,\n",
       " 'monarchi': 148,\n",
       " 'caliph': 149,\n",
       " 'seiz': 150,\n",
       " 'world': 151,\n",
       " 'issu': 152,\n",
       " 'execut': 153,\n",
       " 'thu': 154,\n",
       " 'sever': 155,\n",
       " 'vast': 156,\n",
       " 'dahir': 157,\n",
       " 'aq': 158,\n",
       " 'mamlakah': 159,\n",
       " 'n': 160,\n",
       " 'b': 161,\n",
       " 'interest': 162,\n",
       " 'minist': 163,\n",
       " 'consult': 164,\n",
       " 'west': 165,\n",
       " 'etymolog': 166,\n",
       " 'sovereignti': 167,\n",
       " 'hold': 168,\n",
       " 'nearest': 169,\n",
       " 'intermitt': 170,\n",
       " 'unresolv': 171,\n",
       " 'gomera': 172,\n",
       " 'broke': 173,\n",
       " 'mouth': 174,\n",
       " 'wide': 175,\n",
       " 'migrat': 176,\n",
       " 'divid': 177,\n",
       " 'ident': 178,\n",
       " 'membership': 179,\n",
       " 'relinquish': 180,\n",
       " 'third': 181,\n",
       " 'name': 182,\n",
       " 'muslim': 183,\n",
       " 'refer': 184,\n",
       " 'yah': 185,\n",
       " 'led': 186,\n",
       " 'almoravid': 187,\n",
       " 'resolv': 188,\n",
       " 'maghreb': 189,\n",
       " 'legisl': 190,\n",
       " 'exclav': 191,\n",
       " 'two': 192,\n",
       " 'diplomat': 193,\n",
       " 'wield': 194,\n",
       " 'marrakesh': 195,\n",
       " 'ownership': 196,\n",
       " 'yaku': 197,\n",
       " 'contrast': 198,\n",
       " 'also': 199,\n",
       " 'locat': 200,\n",
       " 'domin': 201,\n",
       " 'nation': 202,\n",
       " 'km': 203,\n",
       " 'arab': 204,\n",
       " 'r': 205,\n",
       " 'year': 206,\n",
       " 'land': 207,\n",
       " 'adn': 208,\n",
       " 'ceuta': 209,\n",
       " 'dissolv': 210,\n",
       " 'zone': 211,\n",
       " 'seri': 212,\n",
       " 'cultur': 213,\n",
       " 'agreement': 214,\n",
       " 'mix': 215,\n",
       " 'rel': 216,\n",
       " 'govern': 217,\n",
       " 'mur': 218,\n",
       " 'parliament': 219,\n",
       " 'geograph': 220,\n",
       " 'unitari': 221,\n",
       " 'branch': 222,\n",
       " 'semi': 223,\n",
       " 'occupi': 224,\n",
       " 'sq': 225,\n",
       " 'militari': 226,\n",
       " 'intern': 227,\n",
       " 'al': 228,\n",
       " 'marrueco': 229,\n",
       " 'drew': 230,\n",
       " 'small': 231,\n",
       " 'regain': 232,\n",
       " 'overlook': 233,\n",
       " 'ocean': 234,\n",
       " 'continu': 235,\n",
       " 'deriv': 236,\n",
       " 'maghrib': 237,\n",
       " 'respect': 238,\n",
       " 'may': 239,\n",
       " 'cede': 240,\n",
       " 'languag': 241,\n",
       " 'sunset': 242,\n",
       " 'sahara': 243,\n",
       " 'review': 244,\n",
       " 'kingdom': 245,\n",
       " 'leagu': 246,\n",
       " 'threat': 247,\n",
       " 'sinc': 248,\n",
       " 'otherwis': 249,\n",
       " 'anglicis': 250,\n",
       " 'ago': 251,\n",
       " 'power': 252,\n",
       " 'lez': 253,\n",
       " 'elect': 254,\n",
       " 'region': 255,\n",
       " 'moroccan': 256,\n",
       " 'coloni': 257,\n",
       " 'encroach': 258,\n",
       " 'extern': 259,\n",
       " 'hous': 260,\n",
       " 'law': 261,\n",
       " 'commerci': 262,\n",
       " 'polici': 263,\n",
       " 'berber': 264,\n",
       " 'southern': 265,\n",
       " 'revolt': 266,\n",
       " 'modern': 267,\n",
       " 'idrisid': 268,\n",
       " 'tiaret': 269,\n",
       " 'face': 270,\n",
       " 'alawi': 271,\n",
       " 'influenc': 272,\n",
       " 'economi': 273,\n",
       " 'renew': 274}"
      ]
     },
     "execution_count": 25,
     "metadata": {},
     "output_type": "execute_result"
    }
   ],
   "source": [
    "vocab"
   ]
  },
  {
   "cell_type": "code",
   "execution_count": 18,
   "id": "e1894f39-a8d8-405d-905f-ade9a0e0cd9b",
   "metadata": {},
   "outputs": [],
   "source": [
    "data = []"
   ]
  },
  {
   "cell_type": "code",
   "execution_count": 28,
   "id": "145f0f5b-c0dc-4d22-b0a6-fad55f6a375f",
   "metadata": {},
   "outputs": [],
   "source": [
    "for i in range(2, len(tokens) - 2):\n",
    "    context = [vocab[word] for word in tokens[i - 2:i] + tokens[i + 1:i + 3]]\n",
    "    target = vocab[tokens[i]]\n",
    "    data.append((torch.tensor(context), torch.tensor(target)))"
   ]
  },
  {
   "cell_type": "code",
   "execution_count": 30,
   "id": "8a5ab983-f656-41c3-9f9d-0e05bb5394b6",
   "metadata": {},
   "outputs": [
    {
     "data": {
      "text/plain": [
       "[(tensor([105,  58, 105, 106]), tensor(245)),\n",
       " (tensor([ 58, 245, 106, 189]), tensor(105)),\n",
       " (tensor([245, 105, 189, 255]), tensor(106)),\n",
       " (tensor([105, 106, 255,  79]), tensor(189)),\n",
       " (tensor([106, 189,  79,  71]), tensor(255)),\n",
       " (tensor([189, 255,  71, 233]), tensor(79))]"
      ]
     },
     "execution_count": 30,
     "metadata": {},
     "output_type": "execute_result"
    }
   ],
   "source": [
    "data[:6]"
   ]
  },
  {
   "cell_type": "code",
   "execution_count": 31,
   "id": "b2490707-ef31-4083-b191-a9897d827469",
   "metadata": {},
   "outputs": [],
   "source": [
    "class CBOWModel(nn.Module):\n",
    "    def __init__(self, vocab_size, embed_size):\n",
    "        super(CBOWModel, self).__init__()\n",
    "        self.embeddings = nn.Embedding(vocab_size, embed_size)\n",
    "        self.linear = nn.Linear(embed_size, vocab_size)\n",
    " \n",
    "    def forward(self, context):\n",
    "        context_embeds = self.embeddings(context).sum(dim=1)\n",
    "        output = self.linear(context_embeds)\n",
    "        return output"
   ]
  },
  {
   "cell_type": "code",
   "execution_count": 150,
   "id": "5f9d9e3e-e085-4262-b7f7-fa052a727b63",
   "metadata": {},
   "outputs": [],
   "source": [
    "# Initialize CBOW model\n",
    "cbow_model = CBOWModel(vocab_size, embed_size)"
   ]
  },
  {
   "cell_type": "code",
   "execution_count": 154,
   "id": "2b3f8eda-09f1-4cfc-bf89-956ba35c2704",
   "metadata": {},
   "outputs": [],
   "source": [
    "vocab_size = len(vocab)\n",
    "embed_size = 4\n",
    "learning_rate = 0.1\n",
    "epochs = 200"
   ]
  },
  {
   "cell_type": "code",
   "execution_count": 155,
   "id": "3c431a1e-e32d-4cdb-9269-87028502835f",
   "metadata": {},
   "outputs": [],
   "source": [
    "criterion = nn.CrossEntropyLoss()\n",
    "optimizer = optim.SGD(cbow_model.parameters(), lr=learning_rate)"
   ]
  },
  {
   "cell_type": "code",
   "execution_count": 156,
   "id": "8fd82dd3-073a-4fc8-aac5-08a9fe2044f0",
   "metadata": {},
   "outputs": [
    {
     "name": "stdout",
     "output_type": "stream",
     "text": [
      "Epoch 1, Loss: 2122.248557866318\n",
      "Epoch 11, Loss: 2130.435435579122\n",
      "Epoch 21, Loss: 2119.178083180952\n",
      "Epoch 31, Loss: 2022.4145251192967\n",
      "Epoch 41, Loss: 2274.9433048166056\n",
      "Epoch 51, Loss: 2361.6241586204856\n",
      "Epoch 61, Loss: 2239.9553883429326\n",
      "Epoch 71, Loss: 2234.2701226471363\n",
      "Epoch 81, Loss: 2400.5961013270885\n"
     ]
    },
    {
     "ename": "KeyboardInterrupt",
     "evalue": "",
     "output_type": "error",
     "traceback": [
      "\u001b[0;31m---------------------------------------------------------------------------\u001b[0m",
      "\u001b[0;31mKeyboardInterrupt\u001b[0m                         Traceback (most recent call last)",
      "Cell \u001b[0;32mIn[156], line 7\u001b[0m\n\u001b[1;32m      5\u001b[0m output \u001b[38;5;241m=\u001b[39m cbow_model(context)\n\u001b[1;32m      6\u001b[0m loss \u001b[38;5;241m=\u001b[39m criterion(output\u001b[38;5;241m.\u001b[39munsqueeze(\u001b[38;5;241m0\u001b[39m), target\u001b[38;5;241m.\u001b[39munsqueeze(\u001b[38;5;241m0\u001b[39m))\n\u001b[0;32m----> 7\u001b[0m \u001b[43mloss\u001b[49m\u001b[38;5;241;43m.\u001b[39;49m\u001b[43mbackward\u001b[49m\u001b[43m(\u001b[49m\u001b[43m)\u001b[49m\n\u001b[1;32m      8\u001b[0m optimizer\u001b[38;5;241m.\u001b[39mstep()\n\u001b[1;32m      9\u001b[0m total_loss \u001b[38;5;241m+\u001b[39m\u001b[38;5;241m=\u001b[39m loss\u001b[38;5;241m.\u001b[39mitem()\n",
      "File \u001b[0;32m~/.local/lib/python3.11/site-packages/torch/_tensor.py:492\u001b[0m, in \u001b[0;36mTensor.backward\u001b[0;34m(self, gradient, retain_graph, create_graph, inputs)\u001b[0m\n\u001b[1;32m    482\u001b[0m \u001b[38;5;28;01mif\u001b[39;00m has_torch_function_unary(\u001b[38;5;28mself\u001b[39m):\n\u001b[1;32m    483\u001b[0m     \u001b[38;5;28;01mreturn\u001b[39;00m handle_torch_function(\n\u001b[1;32m    484\u001b[0m         Tensor\u001b[38;5;241m.\u001b[39mbackward,\n\u001b[1;32m    485\u001b[0m         (\u001b[38;5;28mself\u001b[39m,),\n\u001b[0;32m   (...)\u001b[0m\n\u001b[1;32m    490\u001b[0m         inputs\u001b[38;5;241m=\u001b[39minputs,\n\u001b[1;32m    491\u001b[0m     )\n\u001b[0;32m--> 492\u001b[0m \u001b[43mtorch\u001b[49m\u001b[38;5;241;43m.\u001b[39;49m\u001b[43mautograd\u001b[49m\u001b[38;5;241;43m.\u001b[39;49m\u001b[43mbackward\u001b[49m\u001b[43m(\u001b[49m\n\u001b[1;32m    493\u001b[0m \u001b[43m    \u001b[49m\u001b[38;5;28;43mself\u001b[39;49m\u001b[43m,\u001b[49m\u001b[43m \u001b[49m\u001b[43mgradient\u001b[49m\u001b[43m,\u001b[49m\u001b[43m \u001b[49m\u001b[43mretain_graph\u001b[49m\u001b[43m,\u001b[49m\u001b[43m \u001b[49m\u001b[43mcreate_graph\u001b[49m\u001b[43m,\u001b[49m\u001b[43m \u001b[49m\u001b[43minputs\u001b[49m\u001b[38;5;241;43m=\u001b[39;49m\u001b[43minputs\u001b[49m\n\u001b[1;32m    494\u001b[0m \u001b[43m\u001b[49m\u001b[43m)\u001b[49m\n",
      "File \u001b[0;32m~/.local/lib/python3.11/site-packages/torch/autograd/__init__.py:251\u001b[0m, in \u001b[0;36mbackward\u001b[0;34m(tensors, grad_tensors, retain_graph, create_graph, grad_variables, inputs)\u001b[0m\n\u001b[1;32m    246\u001b[0m     retain_graph \u001b[38;5;241m=\u001b[39m create_graph\n\u001b[1;32m    248\u001b[0m \u001b[38;5;66;03m# The reason we repeat the same comment below is that\u001b[39;00m\n\u001b[1;32m    249\u001b[0m \u001b[38;5;66;03m# some Python versions print out the first line of a multi-line function\u001b[39;00m\n\u001b[1;32m    250\u001b[0m \u001b[38;5;66;03m# calls in the traceback and some print out the last line\u001b[39;00m\n\u001b[0;32m--> 251\u001b[0m \u001b[43mVariable\u001b[49m\u001b[38;5;241;43m.\u001b[39;49m\u001b[43m_execution_engine\u001b[49m\u001b[38;5;241;43m.\u001b[39;49m\u001b[43mrun_backward\u001b[49m\u001b[43m(\u001b[49m\u001b[43m  \u001b[49m\u001b[38;5;66;43;03m# Calls into the C++ engine to run the backward pass\u001b[39;49;00m\n\u001b[1;32m    252\u001b[0m \u001b[43m    \u001b[49m\u001b[43mtensors\u001b[49m\u001b[43m,\u001b[49m\n\u001b[1;32m    253\u001b[0m \u001b[43m    \u001b[49m\u001b[43mgrad_tensors_\u001b[49m\u001b[43m,\u001b[49m\n\u001b[1;32m    254\u001b[0m \u001b[43m    \u001b[49m\u001b[43mretain_graph\u001b[49m\u001b[43m,\u001b[49m\n\u001b[1;32m    255\u001b[0m \u001b[43m    \u001b[49m\u001b[43mcreate_graph\u001b[49m\u001b[43m,\u001b[49m\n\u001b[1;32m    256\u001b[0m \u001b[43m    \u001b[49m\u001b[43minputs\u001b[49m\u001b[43m,\u001b[49m\n\u001b[1;32m    257\u001b[0m \u001b[43m    \u001b[49m\u001b[43mallow_unreachable\u001b[49m\u001b[38;5;241;43m=\u001b[39;49m\u001b[38;5;28;43;01mTrue\u001b[39;49;00m\u001b[43m,\u001b[49m\n\u001b[1;32m    258\u001b[0m \u001b[43m    \u001b[49m\u001b[43maccumulate_grad\u001b[49m\u001b[38;5;241;43m=\u001b[39;49m\u001b[38;5;28;43;01mTrue\u001b[39;49;00m\u001b[43m,\u001b[49m\n\u001b[1;32m    259\u001b[0m \u001b[43m\u001b[49m\u001b[43m)\u001b[49m\n",
      "\u001b[0;31mKeyboardInterrupt\u001b[0m: "
     ]
    }
   ],
   "source": [
    "for epoch in range(epochs):\n",
    "    total_loss = 0\n",
    "    for context, target in data:\n",
    "        optimizer.zero_grad()\n",
    "        output = cbow_model(context)\n",
    "        loss = criterion(output.unsqueeze(0), target.unsqueeze(0))\n",
    "        loss.backward()\n",
    "        optimizer.step()\n",
    "        total_loss += loss.item()\n",
    "    if epoch%10 == 0:\n",
    "        print(f\"Epoch {epoch + 1}, Loss: {total_loss}\")"
   ]
  },
  {
   "cell_type": "code",
   "execution_count": 83,
   "id": "1627dde3-36ba-4ec9-8b2c-21739c9025f6",
   "metadata": {},
   "outputs": [],
   "source": [
    "# Example usage: Get embedding for a specific word\n",
    "def embeddings(word):\n",
    "    word_index = vocab[word]\n",
    "    embedding = cbow_model.embeddings(torch.tensor([word_index]))\n",
    "    print(f\"Embedding for '{word_to_lookup}': {embedding.detach()}\")\n",
    "    return embedding.detach()"
   ]
  },
  {
   "cell_type": "code",
   "execution_count": 93,
   "id": "51a2824e-09df-4e5d-ac09-6c6062ff1370",
   "metadata": {},
   "outputs": [
    {
     "name": "stdout",
     "output_type": "stream",
     "text": [
      "Embedding for 'morocco': tensor([[ 0.8026,  0.1219, -0.3515, -0.0969]])\n"
     ]
    }
   ],
   "source": [
    "m = embeddings(\"morocco\")"
   ]
  },
  {
   "cell_type": "code",
   "execution_count": 94,
   "id": "ef236d16-79b1-45f5-953a-d0279813053d",
   "metadata": {},
   "outputs": [
    {
     "name": "stdout",
     "output_type": "stream",
     "text": [
      "Embedding for 'morocco': tensor([[-2.0423, -0.4131, -2.2740, -2.7473]])\n"
     ]
    }
   ],
   "source": [
    "k = embeddings(\"countri\")"
   ]
  },
  {
   "cell_type": "code",
   "execution_count": 95,
   "id": "1f44dfb9-0d42-4988-9f5d-ca808ff4df38",
   "metadata": {},
   "outputs": [
    {
     "data": {
      "text/plain": [
       "tensor([[-0.6239]])"
      ]
     },
     "execution_count": 95,
     "metadata": {},
     "output_type": "execute_result"
    }
   ],
   "source": [
    "torch.matmul(m, k.t())"
   ]
  },
  {
   "cell_type": "code",
   "execution_count": 78,
   "id": "611218bc-a3e6-4b7c-9fee-cdabf13769ac",
   "metadata": {},
   "outputs": [
    {
     "data": {
      "text/plain": [
       "['coast',\n",
       " 'court',\n",
       " 'citi',\n",
       " 'call',\n",
       " 'chamber',\n",
       " 'control',\n",
       " 'casablanca',\n",
       " 'centuri',\n",
       " 'consid',\n",
       " 'countri',\n",
       " 'ceasefir',\n",
       " 'claim',\n",
       " 'councillor',\n",
       " 'capit',\n",
       " 'constitut',\n",
       " 'caliph',\n",
       " 'consult',\n",
       " 'contrast',\n",
       " 'ceuta',\n",
       " 'cultur',\n",
       " 'continu',\n",
       " 'cede',\n",
       " 'coloni',\n",
       " 'commerci']"
      ]
     },
     "execution_count": 78,
     "metadata": {},
     "output_type": "execute_result"
    }
   ],
   "source": [
    "list(filter(lambda word: word.startswith(\"c\"), vocab.keys()))"
   ]
  },
  {
   "cell_type": "code",
   "execution_count": null,
   "id": "7bf17d72-c632-4d0b-8843-624a08134596",
   "metadata": {},
   "outputs": [],
   "source": []
  },
  {
   "cell_type": "markdown",
   "id": "a064970b-e5e9-414a-8606-1351c1cc66ca",
   "metadata": {},
   "source": [
    "#### References: \n",
    "\n",
    "- **`Word Embedding in NLP`** [https://www.geeksforgeeks.org/word-embeddings-in-nlp/](https://www.geeksforgeeks.org/word-embeddings-in-nlp/)"
   ]
  },
  {
   "cell_type": "markdown",
   "id": "d6e6dfe8-8ab4-4c45-9ce2-35a1f5e835dc",
   "metadata": {},
   "source": [
    " "
   ]
  },
  {
   "cell_type": "markdown",
   "id": "98c8dde4-84d3-4941-ade3-82f627a7cfa2",
   "metadata": {},
   "source": [
    " "
   ]
  },
  {
   "cell_type": "markdown",
   "id": "6c67e189-7b7a-40b9-8f3f-08933781c27e",
   "metadata": {},
   "source": [
    " "
   ]
  }
 ],
 "metadata": {
  "kernelspec": {
   "display_name": "Python 3 (ipykernel)",
   "language": "python",
   "name": "python3"
  },
  "language_info": {
   "codemirror_mode": {
    "name": "ipython",
    "version": 3
   },
   "file_extension": ".py",
   "mimetype": "text/x-python",
   "name": "python",
   "nbconvert_exporter": "python",
   "pygments_lexer": "ipython3",
   "version": "3.11.6"
  }
 },
 "nbformat": 4,
 "nbformat_minor": 5
}
