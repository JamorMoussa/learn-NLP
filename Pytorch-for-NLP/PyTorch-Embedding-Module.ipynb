{
 "cells": [
  {
   "cell_type": "markdown",
   "id": "1a38405a-96d3-45f6-be46-b42009159e33",
   "metadata": {},
   "source": [
    "--- \n",
    "\n",
    "**PyTorch Embedding Module** `nn.Embedding()` by [Moussa JAMOR](https://github.com/JamorMoussa)\n",
    "\n",
    "Code Repository: [todo]()\n",
    "\n",
    "---"
   ]
  },
  {
   "cell_type": "markdown",
   "id": "a064970b-e5e9-414a-8606-1351c1cc66ca",
   "metadata": {},
   "source": [
    "#### References: \n",
    "\n",
    "- **`Word Embedding in NLP`** [https://www.geeksforgeeks.org/word-embeddings-in-nlp/](https://www.geeksforgeeks.org/word-embeddings-in-nlp/)"
   ]
  },
  {
   "cell_type": "code",
   "execution_count": null,
   "id": "34505df6-8348-452f-aab3-83f1a4fa6ed8",
   "metadata": {},
   "outputs": [],
   "source": []
  }
 ],
 "metadata": {
  "kernelspec": {
   "display_name": "Python 3 (ipykernel)",
   "language": "python",
   "name": "python3"
  },
  "language_info": {
   "codemirror_mode": {
    "name": "ipython",
    "version": 3
   },
   "file_extension": ".py",
   "mimetype": "text/x-python",
   "name": "python",
   "nbconvert_exporter": "python",
   "pygments_lexer": "ipython3",
   "version": "3.11.6"
  }
 },
 "nbformat": 4,
 "nbformat_minor": 5
}
