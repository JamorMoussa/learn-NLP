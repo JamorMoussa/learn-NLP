{
 "cells": [
  {
   "cell_type": "markdown",
   "id": "4ed2e788-196a-4745-9d04-53998a98f22c",
   "metadata": {},
   "source": [
    "Learning NLP (Natural Language Processing) by [Moussa JAMOR]()."
   ]
  },
  {
   "cell_type": "markdown",
   "id": "1df9fb9a-3054-4e87-a073-d58dfed78096",
   "metadata": {},
   "source": [
    "## <center> Bag of Words (BoW) Model : "
   ]
  },
  {
   "cell_type": "code",
   "execution_count": null,
   "id": "4d60ef34-430d-4195-b221-c9232b7822b0",
   "metadata": {},
   "outputs": [],
   "source": []
  }
 ],
 "metadata": {
  "kernelspec": {
   "display_name": "Python 3 (ipykernel)",
   "language": "python",
   "name": "python3"
  },
  "language_info": {
   "codemirror_mode": {
    "name": "ipython",
    "version": 3
   },
   "file_extension": ".py",
   "mimetype": "text/x-python",
   "name": "python",
   "nbconvert_exporter": "python",
   "pygments_lexer": "ipython3",
   "version": "3.11.6"
  }
 },
 "nbformat": 4,
 "nbformat_minor": 5
}
